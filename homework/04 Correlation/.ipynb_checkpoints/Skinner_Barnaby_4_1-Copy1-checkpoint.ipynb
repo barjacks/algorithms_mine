{
 "cells": [
  {
   "cell_type": "markdown",
   "metadata": {},
   "source": [
    "# Query of Dot 311 "
   ]
  },
  {
   "cell_type": "code",
   "execution_count": 24,
   "metadata": {
    "collapsed": true
   },
   "outputs": [],
   "source": [
    "#Perform a basic statistical analysis of the time DOT 311 (table is called dot_311) \n",
    "#complaints are open (subtract closed date from created date). Connect to the database \n",
    "#to get the data and do the analysis. Submit the code through Github and type up your \n",
    "#results in your PR"
   ]
  },
  {
   "cell_type": "code",
   "execution_count": 25,
   "metadata": {
    "collapsed": true
   },
   "outputs": [],
   "source": [
    "#Host: training.c1erymiua9dx.us-east-1.rds.amazonaws.com\n",
    "#Port: 5432\n",
    "#Database: training\n",
    "#Username: dot_student\n",
    "#Password: qgis"
   ]
  },
  {
   "cell_type": "code",
   "execution_count": 26,
   "metadata": {
    "collapsed": true
   },
   "outputs": [],
   "source": [
    "import pg8000"
   ]
  },
  {
   "cell_type": "code",
   "execution_count": null,
   "metadata": {
    "collapsed": false
   },
   "outputs": [],
   "source": [
    "conn = pg8000.connect(host='http://training.c1erymiua9dx.us-east-1.rds.amazonaws.com', user='dot_student', password='qgis', database=\"training\")\n",
    "cursor = conn.cursor()\n",
    "cursor.execute(\"select * from information_schema.columns\")\n",
    "results = cursor.fetchall()"
   ]
  },
  {
   "cell_type": "code",
   "execution_count": null,
   "metadata": {
    "collapsed": false
   },
   "outputs": [],
   "source": [
    "conn.rollback()"
   ]
  },
  {
   "cell_type": "code",
   "execution_count": null,
   "metadata": {
    "collapsed": true
   },
   "outputs": [],
   "source": []
  }
 ],
 "metadata": {
  "kernelspec": {
   "display_name": "Python 3",
   "language": "python",
   "name": "python3"
  },
  "language_info": {
   "codemirror_mode": {
    "name": "ipython",
    "version": 3
   },
   "file_extension": ".py",
   "mimetype": "text/x-python",
   "name": "python",
   "nbconvert_exporter": "python",
   "pygments_lexer": "ipython3",
   "version": "3.5.1"
  }
 },
 "nbformat": 4,
 "nbformat_minor": 0
}
