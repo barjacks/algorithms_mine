{
 "cells": [
  {
   "cell_type": "markdown",
   "metadata": {},
   "source": [
    "# Clustering"
   ]
  },
  {
   "cell_type": "code",
   "execution_count": 3,
   "metadata": {
    "collapsed": false
   },
   "outputs": [],
   "source": [
    "import pandas as pd\n",
    "import matplotlib.pyplot as plt\n",
    "import random\n",
    "%matplotlib inline"
   ]
  },
  {
   "cell_type": "code",
   "execution_count": null,
   "metadata": {
    "collapsed": true
   },
   "outputs": [],
   "source": [
    "# Classification: Given labels and features, we can predict labels.\n",
    "# Clustering: We have data set with no labels, but yes features, so \n",
    "# we use those features to create labels."
   ]
  },
  {
   "cell_type": "code",
   "execution_count": 7,
   "metadata": {
    "collapsed": false
   },
   "outputs": [],
   "source": [
    "def make_fake_data_point():\n",
    "    seed = random.randint(0,10)\n",
    "    if seed < 2:\n",
    "        return random.normalvariate(170, 40)\n",
    "    if seed < 4:\n",
    "        return random.normalvariate(80, 20)\n",
    "    if seed < 5:\n",
    "        return random.normalvariate(120, 10)\n",
    "    if seed < 8:\n",
    "        return random.normalvariate(320, 15)\n",
    "    if seed < 9:\n",
    "        return random.normalvariate(210, 10)\n",
    "    return random.normalvariate(30, 5)"
   ]
  },
  {
   "cell_type": "code",
   "execution_count": 11,
   "metadata": {
    "collapsed": true
   },
   "outputs": [],
   "source": [
    "def create_fake_data(number_of_points):\n",
    "    return pd.DataFrame([int(make_fake_data_point()) for i in range(number_of_points)], columns=[\"weight\"])"
   ]
  },
  {
   "cell_type": "code",
   "execution_count": 12,
   "metadata": {
    "collapsed": false
   },
   "outputs": [],
   "source": [
    "df = create_fake_data(1000)"
   ]
  },
  {
   "cell_type": "code",
   "execution_count": 13,
   "metadata": {
    "collapsed": false
   },
   "outputs": [
    {
     "data": {
      "text/html": [
       "<div>\n",
       "<table border=\"1\" class=\"dataframe\">\n",
       "  <thead>\n",
       "    <tr style=\"text-align: right;\">\n",
       "      <th></th>\n",
       "      <th>weight</th>\n",
       "    </tr>\n",
       "  </thead>\n",
       "  <tbody>\n",
       "    <tr>\n",
       "      <th>0</th>\n",
       "      <td>321</td>\n",
       "    </tr>\n",
       "    <tr>\n",
       "      <th>1</th>\n",
       "      <td>25</td>\n",
       "    </tr>\n",
       "    <tr>\n",
       "      <th>2</th>\n",
       "      <td>73</td>\n",
       "    </tr>\n",
       "    <tr>\n",
       "      <th>3</th>\n",
       "      <td>151</td>\n",
       "    </tr>\n",
       "    <tr>\n",
       "      <th>4</th>\n",
       "      <td>336</td>\n",
       "    </tr>\n",
       "  </tbody>\n",
       "</table>\n",
       "</div>"
      ],
      "text/plain": [
       "   weight\n",
       "0     321\n",
       "1      25\n",
       "2      73\n",
       "3     151\n",
       "4     336"
      ]
     },
     "execution_count": 13,
     "metadata": {},
     "output_type": "execute_result"
    }
   ],
   "source": [
    "df.head()"
   ]
  },
  {
   "cell_type": "code",
   "execution_count": 14,
   "metadata": {
    "collapsed": false
   },
   "outputs": [
    {
     "data": {
      "text/plain": [
       "<matplotlib.axes._subplots.AxesSubplot at 0x1123eb7f0>"
      ]
     },
     "execution_count": 14,
     "metadata": {},
     "output_type": "execute_result"
    },
    {
     "data": {
      "image/png": "[encoded data removed]",
      "text/plain": [
       "<matplotlib.figure.Figure at 0x10ecc7390>"
      ]
     },
     "metadata": {},
     "output_type": "display_data"
    }
   ],
   "source": [
    "df['weight'].hist(bins=50)"
   ]
  },
  {
   "cell_type": "markdown",
   "metadata": {},
   "source": [
    "# K-means"
   ]
  },
  {
   "cell_type": "code",
   "execution_count": 27,
   "metadata": {
    "collapsed": true
   },
   "outputs": [],
   "source": [
    "from sklearn.cluster import KMeans\n",
    "\n",
    "km = KMeans(n_clusters=6, verbose=False) #number of clusters, verbose tells us what KMeans is actually doing"
   ]
  },
  {
   "cell_type": "code",
   "execution_count": 28,
   "metadata": {
    "collapsed": false
   },
   "outputs": [
    {
     "data": {
      "text/plain": [
       "KMeans(copy_x=True, init='k-means++', max_iter=300, n_clusters=6, n_init=10,\n",
       "    n_jobs=1, precompute_distances='auto', random_state=None, tol=0.0001,\n",
       "    verbose=False)"
      ]
     },
     "execution_count": 28,
     "metadata": {},
     "output_type": "execute_result"
    }
   ],
   "source": [
    "km.fit(df[['weight']])"
   ]
  },
  {
   "cell_type": "code",
   "execution_count": 29,
   "metadata": {
    "collapsed": false
   },
   "outputs": [],
   "source": [
    "df['prediction'] = km.predict(df[['weight']])"
   ]
  },
  {
   "cell_type": "code",
   "execution_count": 31,
   "metadata": {
    "collapsed": false
   },
   "outputs": [
    {
     "data": {
      "text/plain": [
       "prediction\n",
       "0    Axes(0.125,0.125;0.775x0.775)\n",
       "1    Axes(0.125,0.125;0.775x0.775)\n",
       "2    Axes(0.125,0.125;0.775x0.775)\n",
       "3    Axes(0.125,0.125;0.775x0.775)\n",
       "4    Axes(0.125,0.125;0.775x0.775)\n",
       "5    Axes(0.125,0.125;0.775x0.775)\n",
       "Name: weight, dtype: object"
      ]
     },
     "execution_count": 31,
     "metadata": {},
     "output_type": "execute_result"
    },
    {
     "data": {
      "image/png": "[encoded data removed]",
      "text/plain": [
       "<matplotlib.figure.Figure at 0x11494c588>"
      ]
     },
     "metadata": {},
     "output_type": "display_data"
    }
   ],
   "source": [
    "df.groupby('prediction')['weight'].hist(bins=10)"
   ]
  },
  {
   "cell_type": "code",
   "execution_count": 32,
   "metadata": {
    "collapsed": true
   },
   "outputs": [],
   "source": [
    "df = pd.read_csv(\"nba_2013_cleaned.csv\")"
   ]
  },
  {
   "cell_type": "code",
   "execution_count": 33,
   "metadata": {
    "collapsed": false
   },
   "outputs": [
    {
     "data": {
      "text/html": [
       "<div>\n",
       "<table border=\"1\" class=\"dataframe\">\n",
       "  <thead>\n",
       "    <tr style=\"text-align: right;\">\n",
       "      <th></th>\n",
       "      <th>Name</th>\n",
       "      <th>Age</th>\n",
       "      <th>Team</th>\n",
       "      <th>POS</th>\n",
       "      <th>Number</th>\n",
       "      <th>Salary</th>\n",
       "      <th>Height</th>\n",
       "      <th>Weight</th>\n",
       "      <th>Years</th>\n",
       "      <th>1st Year</th>\n",
       "      <th>DOB</th>\n",
       "      <th>School</th>\n",
       "      <th>City</th>\n",
       "      <th>State/Province</th>\n",
       "      <th>Country</th>\n",
       "      <th>Race</th>\n",
       "      <th>HS Only</th>\n",
       "    </tr>\n",
       "  </thead>\n",
       "  <tbody>\n",
       "    <tr>\n",
       "      <th>0</th>\n",
       "      <td>Gee, Alonzo</td>\n",
       "      <td>26</td>\n",
       "      <td>Cavaliers</td>\n",
       "      <td>F</td>\n",
       "      <td>33</td>\n",
       "      <td>3250000.0</td>\n",
       "      <td>78</td>\n",
       "      <td>219</td>\n",
       "      <td>4</td>\n",
       "      <td>2009</td>\n",
       "      <td>5/29/1987</td>\n",
       "      <td>Alabama</td>\n",
       "      <td>Riviera Beach, FL</td>\n",
       "      <td>Florida</td>\n",
       "      <td>US</td>\n",
       "      <td>Black</td>\n",
       "      <td>No</td>\n",
       "    </tr>\n",
       "    <tr>\n",
       "      <th>1</th>\n",
       "      <td>Wallace, Gerald</td>\n",
       "      <td>31</td>\n",
       "      <td>Celtics</td>\n",
       "      <td>F</td>\n",
       "      <td>45</td>\n",
       "      <td>10105855.0</td>\n",
       "      <td>79</td>\n",
       "      <td>220</td>\n",
       "      <td>12</td>\n",
       "      <td>2001</td>\n",
       "      <td>7/23/1982</td>\n",
       "      <td>Alabama</td>\n",
       "      <td>Sylacauga, AL</td>\n",
       "      <td>Alabama</td>\n",
       "      <td>US</td>\n",
       "      <td>Black</td>\n",
       "      <td>No</td>\n",
       "    </tr>\n",
       "    <tr>\n",
       "      <th>2</th>\n",
       "      <td>Williams, Mo</td>\n",
       "      <td>30</td>\n",
       "      <td>Trail Blazers</td>\n",
       "      <td>G</td>\n",
       "      <td>25</td>\n",
       "      <td>2652000.0</td>\n",
       "      <td>73</td>\n",
       "      <td>195</td>\n",
       "      <td>10</td>\n",
       "      <td>2003</td>\n",
       "      <td>12/19/1982</td>\n",
       "      <td>Alabama</td>\n",
       "      <td>Jackson, MS</td>\n",
       "      <td>Mississippi</td>\n",
       "      <td>US</td>\n",
       "      <td>Black</td>\n",
       "      <td>No</td>\n",
       "    </tr>\n",
       "    <tr>\n",
       "      <th>3</th>\n",
       "      <td>Gladness, Mickell</td>\n",
       "      <td>27</td>\n",
       "      <td>Magic</td>\n",
       "      <td>C</td>\n",
       "      <td>40</td>\n",
       "      <td>762195.0</td>\n",
       "      <td>83</td>\n",
       "      <td>220</td>\n",
       "      <td>2</td>\n",
       "      <td>2011</td>\n",
       "      <td>7/26/1986</td>\n",
       "      <td>Alabama A&amp;M</td>\n",
       "      <td>Birmingham, AL</td>\n",
       "      <td>Alabama</td>\n",
       "      <td>US</td>\n",
       "      <td>Black</td>\n",
       "      <td>No</td>\n",
       "    </tr>\n",
       "    <tr>\n",
       "      <th>4</th>\n",
       "      <td>Jefferson, Richard</td>\n",
       "      <td>33</td>\n",
       "      <td>Jazz</td>\n",
       "      <td>F</td>\n",
       "      <td>44</td>\n",
       "      <td>11046000.0</td>\n",
       "      <td>79</td>\n",
       "      <td>230</td>\n",
       "      <td>12</td>\n",
       "      <td>2001</td>\n",
       "      <td>6/21/1980</td>\n",
       "      <td>Arizona</td>\n",
       "      <td>Los Angeles, CA</td>\n",
       "      <td>California</td>\n",
       "      <td>US</td>\n",
       "      <td>Black</td>\n",
       "      <td>No</td>\n",
       "    </tr>\n",
       "  </tbody>\n",
       "</table>\n",
       "</div>"
      ],
      "text/plain": [
       "                 Name  Age           Team POS Number      Salary  Height  \\\n",
       "0         Gee, Alonzo   26      Cavaliers   F     33   3250000.0      78   \n",
       "1     Wallace, Gerald   31        Celtics   F     45  10105855.0      79   \n",
       "2        Williams, Mo   30  Trail Blazers   G     25   2652000.0      73   \n",
       "3   Gladness, Mickell   27          Magic   C     40    762195.0      83   \n",
       "4  Jefferson, Richard   33           Jazz   F     44  11046000.0      79   \n",
       "\n",
       "   Weight  Years  1st Year         DOB       School               City  \\\n",
       "0     219      4      2009   5/29/1987      Alabama  Riviera Beach, FL   \n",
       "1     220     12      2001   7/23/1982      Alabama      Sylacauga, AL   \n",
       "2     195     10      2003  12/19/1982      Alabama        Jackson, MS   \n",
       "3     220      2      2011   7/26/1986  Alabama A&M     Birmingham, AL   \n",
       "4     230     12      2001   6/21/1980      Arizona    Los Angeles, CA   \n",
       "\n",
       "  State/Province Country   Race HS Only  \n",
       "0        Florida      US  Black      No  \n",
       "1        Alabama      US  Black      No  \n",
       "2    Mississippi      US  Black      No  \n",
       "3        Alabama      US  Black      No  \n",
       "4     California      US  Black      No  "
      ]
     },
     "execution_count": 33,
     "metadata": {},
     "output_type": "execute_result"
    }
   ],
   "source": [
    "df.head()"
   ]
  },
  {
   "cell_type": "code",
   "execution_count": 35,
   "metadata": {
    "collapsed": false
   },
   "outputs": [],
   "source": [
    "df = df[(df['POS'] == 'C') | (df['POS'] == 'F') | (df['POS'] == 'G')]"
   ]
  },
  {
   "cell_type": "code",
   "execution_count": 38,
   "metadata": {
    "collapsed": false
   },
   "outputs": [
    {
     "data": {
      "text/plain": [
       "G    175\n",
       "F    142\n",
       "C     67\n",
       "Name: POS, dtype: int64"
      ]
     },
     "execution_count": 38,
     "metadata": {},
     "output_type": "execute_result"
    }
   ],
   "source": [
    "df['POS'].value_counts()"
   ]
  },
  {
   "cell_type": "code",
   "execution_count": 40,
   "metadata": {
    "collapsed": false
   },
   "outputs": [
    {
     "data": {
      "text/html": [
       "<div>\n",
       "<table border=\"1\" class=\"dataframe\">\n",
       "  <thead>\n",
       "    <tr style=\"text-align: right;\">\n",
       "      <th></th>\n",
       "      <th>POS</th>\n",
       "      <th>POS_label</th>\n",
       "    </tr>\n",
       "  </thead>\n",
       "  <tbody>\n",
       "    <tr>\n",
       "      <th>0</th>\n",
       "      <td>F</td>\n",
       "      <td>1</td>\n",
       "    </tr>\n",
       "    <tr>\n",
       "      <th>1</th>\n",
       "      <td>F</td>\n",
       "      <td>1</td>\n",
       "    </tr>\n",
       "    <tr>\n",
       "      <th>2</th>\n",
       "      <td>G</td>\n",
       "      <td>2</td>\n",
       "    </tr>\n",
       "    <tr>\n",
       "      <th>3</th>\n",
       "      <td>C</td>\n",
       "      <td>0</td>\n",
       "    </tr>\n",
       "    <tr>\n",
       "      <th>4</th>\n",
       "      <td>F</td>\n",
       "      <td>1</td>\n",
       "    </tr>\n",
       "  </tbody>\n",
       "</table>\n",
       "</div>"
      ],
      "text/plain": [
       "  POS  POS_label\n",
       "0   F          1\n",
       "1   F          1\n",
       "2   G          2\n",
       "3   C          0\n",
       "4   F          1"
      ]
     },
     "execution_count": 40,
     "metadata": {},
     "output_type": "execute_result"
    }
   ],
   "source": [
    "from sklearn import preprocessing\n",
    "le = preprocessing.LabelEncoder()\n",
    "df['POS_label'] = le.fit_transform(df['POS'])\n",
    "df[['POS', 'POS_label']].head()"
   ]
  },
  {
   "cell_type": "code",
   "execution_count": 42,
   "metadata": {
    "collapsed": false
   },
   "outputs": [
    {
     "data": {
      "text/plain": [
       "<matplotlib.collections.PathCollection at 0x114e31208>"
      ]
     },
     "execution_count": 42,
     "metadata": {},
     "output_type": "execute_result"
    },
    {
     "data": {
      "image/png": "[encoded data removed]",
      "text/plain": [
       "<matplotlib.figure.Figure at 0x114cb3c18>"
      ]
     },
     "metadata": {},
     "output_type": "display_data"
    }
   ],
   "source": [
    "plt.scatter(df['Weight'], df['Height'], edgecolor='none', c=df['POS_label'], alpha=0.5)"
   ]
  },
  {
   "cell_type": "code",
   "execution_count": 72,
   "metadata": {
    "collapsed": true
   },
   "outputs": [],
   "source": [
    "from sklearn.cluster import KMeans"
   ]
  },
  {
   "cell_type": "code",
   "execution_count": 73,
   "metadata": {
    "collapsed": false
   },
   "outputs": [
    {
     "data": {
      "text/plain": [
       "KMeans(copy_x=True, init='k-means++', max_iter=300, n_clusters=4, n_init=10,\n",
       "    n_jobs=1, precompute_distances='auto', random_state=None, tol=0.0001,\n",
       "    verbose=0)"
      ]
     },
     "execution_count": 73,
     "metadata": {},
     "output_type": "execute_result"
    }
   ],
   "source": [
    "km = KMeans(n_clusters=4)\n",
    "km.fit(df[['Weight', 'Height']])"
   ]
  },
  {
   "cell_type": "code",
   "execution_count": 74,
   "metadata": {
    "collapsed": true
   },
   "outputs": [],
   "source": [
    "df['cluster_4'] = km.predict(df[['Weight', 'Height']])"
   ]
  },
  {
   "cell_type": "code",
   "execution_count": 75,
   "metadata": {
    "collapsed": false
   },
   "outputs": [
    {
     "data": {
      "text/html": [
       "<div>\n",
       "<table border=\"1\" class=\"dataframe\">\n",
       "  <thead>\n",
       "    <tr style=\"text-align: right;\">\n",
       "      <th></th>\n",
       "      <th>Name</th>\n",
       "      <th>Age</th>\n",
       "      <th>Team</th>\n",
       "      <th>POS</th>\n",
       "      <th>Number</th>\n",
       "      <th>Salary</th>\n",
       "      <th>Height</th>\n",
       "      <th>Weight</th>\n",
       "      <th>Years</th>\n",
       "      <th>1st Year</th>\n",
       "      <th>DOB</th>\n",
       "      <th>School</th>\n",
       "      <th>City</th>\n",
       "      <th>State/Province</th>\n",
       "      <th>Country</th>\n",
       "      <th>Race</th>\n",
       "      <th>HS Only</th>\n",
       "      <th>POS_label</th>\n",
       "      <th>cluster_4</th>\n",
       "    </tr>\n",
       "  </thead>\n",
       "  <tbody>\n",
       "    <tr>\n",
       "      <th>0</th>\n",
       "      <td>Gee, Alonzo</td>\n",
       "      <td>26</td>\n",
       "      <td>Cavaliers</td>\n",
       "      <td>F</td>\n",
       "      <td>33</td>\n",
       "      <td>3250000.0</td>\n",
       "      <td>78</td>\n",
       "      <td>219</td>\n",
       "      <td>4</td>\n",
       "      <td>2009</td>\n",
       "      <td>5/29/1987</td>\n",
       "      <td>Alabama</td>\n",
       "      <td>Riviera Beach, FL</td>\n",
       "      <td>Florida</td>\n",
       "      <td>US</td>\n",
       "      <td>Black</td>\n",
       "      <td>No</td>\n",
       "      <td>1</td>\n",
       "      <td>3</td>\n",
       "    </tr>\n",
       "    <tr>\n",
       "      <th>1</th>\n",
       "      <td>Wallace, Gerald</td>\n",
       "      <td>31</td>\n",
       "      <td>Celtics</td>\n",
       "      <td>F</td>\n",
       "      <td>45</td>\n",
       "      <td>10105855.0</td>\n",
       "      <td>79</td>\n",
       "      <td>220</td>\n",
       "      <td>12</td>\n",
       "      <td>2001</td>\n",
       "      <td>7/23/1982</td>\n",
       "      <td>Alabama</td>\n",
       "      <td>Sylacauga, AL</td>\n",
       "      <td>Alabama</td>\n",
       "      <td>US</td>\n",
       "      <td>Black</td>\n",
       "      <td>No</td>\n",
       "      <td>1</td>\n",
       "      <td>3</td>\n",
       "    </tr>\n",
       "  </tbody>\n",
       "</table>\n",
       "</div>"
      ],
      "text/plain": [
       "              Name  Age       Team POS Number      Salary  Height  Weight  \\\n",
       "0      Gee, Alonzo   26  Cavaliers   F     33   3250000.0      78     219   \n",
       "1  Wallace, Gerald   31    Celtics   F     45  10105855.0      79     220   \n",
       "\n",
       "   Years  1st Year        DOB   School               City State/Province  \\\n",
       "0      4      2009  5/29/1987  Alabama  Riviera Beach, FL        Florida   \n",
       "1     12      2001  7/23/1982  Alabama      Sylacauga, AL        Alabama   \n",
       "\n",
       "  Country   Race HS Only  POS_label  cluster_4  \n",
       "0      US  Black      No          1          3  \n",
       "1      US  Black      No          1          3  "
      ]
     },
     "execution_count": 75,
     "metadata": {},
     "output_type": "execute_result"
    }
   ],
   "source": [
    "df.head(2)"
   ]
  },
  {
   "cell_type": "code",
   "execution_count": 76,
   "metadata": {
    "collapsed": false
   },
   "outputs": [
    {
     "data": {
      "text/plain": [
       "<matplotlib.collections.PathCollection at 0x1117a57b8>"
      ]
     },
     "execution_count": 76,
     "metadata": {},
     "output_type": "execute_result"
    },
    {
     "data": {
      "image/png": "[encoded data removed]",
      "text/plain": [
       "<matplotlib.figure.Figure at 0x1155ab8d0>"
      ]
     },
     "metadata": {},
     "output_type": "display_data"
    }
   ],
   "source": [
    "plt.scatter(df['Weight'], df['Height'], edgecolor='none', c=df['cluster_4'], alpha=0.5)"
   ]
  },
  {
   "cell_type": "code",
   "execution_count": 78,
   "metadata": {
    "collapsed": false
   },
   "outputs": [
    {
     "data": {
      "text/plain": [
       "(0, 350)"
      ]
     },
     "execution_count": 78,
     "metadata": {},
     "output_type": "execute_result"
    },
    {
     "data": {
      "image/png": "[encoded data removed]",
      "text/plain": [
       "<matplotlib.figure.Figure at 0x115748a58>"
      ]
     },
     "metadata": {},
     "output_type": "display_data"
    }
   ],
   "source": [
    "import numpy as np\n",
    "plt.scatter(df['Weight'], df['Height'], edgecolor='none', c=df['cluster_4'], alpha=0.5)\n",
    "plt.scatter(km.cluster_centers_[:,0], km.cluster_centers_[:,1], s=100, c=np.unique(km.labels_))\n",
    "plt.xlim([0,350])\n",
    "plt.ylim([0,350])"
   ]
  },
  {
   "cell_type": "code",
   "execution_count": 81,
   "metadata": {
    "collapsed": false
   },
   "outputs": [
    {
     "data": {
      "text/plain": [
       "<matplotlib.axes._subplots.AxesSubplot at 0x115983e48>"
      ]
     },
     "execution_count": 81,
     "metadata": {},
     "output_type": "execute_result"
    },
    {
     "data": {
      "image/png": "[encoded data removed]",
      "text/plain": [
       "<matplotlib.figure.Figure at 0x11598b208>"
      ]
     },
     "metadata": {},
     "output_type": "display_data"
    }
   ],
   "source": [
    "df['Weight'].hist()\n",
    "df['Height'].hist()"
   ]
  },
  {
   "cell_type": "code",
   "execution_count": 82,
   "metadata": {
    "collapsed": true
   },
   "outputs": [],
   "source": [
    "from sklearn import preprocessing"
   ]
  },
  {
   "cell_type": "code",
   "execution_count": 84,
   "metadata": {
    "collapsed": false
   },
   "outputs": [
    {
     "name": "stderr",
     "output_type": "stream",
     "text": [
      "/usr/local/lib/python3.5/site-packages/sklearn/utils/validation.py:420: DataConversionWarning: Data with input dtype int64 was converted to float64 by the scale function.\n",
      "  warnings.warn(msg, DataConversionWarning)\n",
      "/usr/local/lib/python3.5/site-packages/sklearn/utils/validation.py:420: DataConversionWarning: Data with input dtype int64 was converted to float64 by the scale function.\n",
      "  warnings.warn(msg, DataConversionWarning)\n"
     ]
    }
   ],
   "source": [
    "df['scaled_height'] = preprocessing.scale(df['Height'])\n",
    "df['scaled_weight'] = preprocessing.scale(df['Weight'])"
   ]
  },
  {
   "cell_type": "code",
   "execution_count": 85,
   "metadata": {
    "collapsed": false
   },
   "outputs": [
    {
     "data": {
      "image/png": "[encoded data removed]",
      "text/plain": [
       "<matplotlib.figure.Figure at 0x115b20be0>"
      ]
     },
     "metadata": {},
     "output_type": "display_data"
    }
   ],
   "source": [
    "import numpy as np\n",
    "plt.scatter(df['scaled_weight'], df['scaled_height'], edgecolor='none', c=df['cluster_4'], alpha=0.5)\n",
    "plt.grid()"
   ]
  },
  {
   "cell_type": "code",
   "execution_count": 86,
   "metadata": {
    "collapsed": true
   },
   "outputs": [],
   "source": [
    "#Make new KMeans, 3 clusters\n",
    "#fit it iwiht the scaled weight, height\n",
    "#predict it based on scaled weight and height\n",
    "#store those labels into a new column\n",
    "#graph it"
   ]
  },
  {
   "cell_type": "code",
   "execution_count": 87,
   "metadata": {
    "collapsed": false
   },
   "outputs": [
    {
     "data": {
      "text/plain": [
       "KMeans(copy_x=True, init='k-means++', max_iter=300, n_clusters=3, n_init=10,\n",
       "    n_jobs=1, precompute_distances='auto', random_state=None, tol=0.0001,\n",
       "    verbose=0)"
      ]
     },
     "execution_count": 87,
     "metadata": {},
     "output_type": "execute_result"
    }
   ],
   "source": [
    "#Make new KMeans, 3 clusters\n",
    "km = KMeans(n_clusters=3)\n",
    "km.fit(df[['scaled_weight', 'scaled_height']])"
   ]
  },
  {
   "cell_type": "code",
   "execution_count": 94,
   "metadata": {
    "collapsed": false
   },
   "outputs": [
    {
     "data": {
      "text/plain": [
       "1    159\n",
       "0    119\n",
       "2    106\n",
       "Name: scaled_prediction, dtype: int64"
      ]
     },
     "execution_count": 94,
     "metadata": {},
     "output_type": "execute_result"
    }
   ],
   "source": [
    "df['scaled_prediction'] = km.predict(df[['scaled_weight', 'scaled_height']])\n",
    "df['scaled_prediction'].value_counts()"
   ]
  },
  {
   "cell_type": "code",
   "execution_count": 95,
   "metadata": {
    "collapsed": false
   },
   "outputs": [
    {
     "data": {
      "image/png": "[encoded data removed]",
      "text/plain": [
       "<matplotlib.figure.Figure at 0x115be4f28>"
      ]
     },
     "metadata": {},
     "output_type": "display_data"
    }
   ],
   "source": [
    "import numpy as np\n",
    "plt.scatter(df['scaled_weight'], df['scaled_height'], edgecolor='none', c=df['scaled_prediction'], alpha=0.5)\n",
    "plt.grid()"
   ]
  },
  {
   "cell_type": "code",
   "execution_count": 96,
   "metadata": {
    "collapsed": false
   },
   "outputs": [
    {
     "data": {
      "image/png": "[encoded data removed]",
      "text/plain": [
       "<matplotlib.figure.Figure at 0x115cfd4e0>"
      ]
     },
     "metadata": {},
     "output_type": "display_data"
    }
   ],
   "source": [
    "plt.scatter(df['scaled_weight'], df['scaled_height'], edgecolor='none', c=df['POS_label'], alpha=0.5)\n",
    "plt.grid()"
   ]
  },
  {
   "cell_type": "code",
   "execution_count": 97,
   "metadata": {
    "collapsed": false
   },
   "outputs": [
    {
     "data": {
      "text/plain": [
       "scaled_prediction  POS\n",
       "0                  F      101\n",
       "                   G       16\n",
       "                   C        2\n",
       "1                  G      159\n",
       "2                  C       65\n",
       "                   F       41\n",
       "Name: POS, dtype: int64"
      ]
     },
     "execution_count": 97,
     "metadata": {},
     "output_type": "execute_result"
    }
   ],
   "source": [
    "df.groupby('scaled_prediction')['POS'].value_counts()"
   ]
  },
  {
   "cell_type": "code",
   "execution_count": 98,
   "metadata": {
    "collapsed": true
   },
   "outputs": [],
   "source": [
    "#Other ways would be i.e. to work with DBScan"
   ]
  },
  {
   "cell_type": "code",
   "execution_count": null,
   "metadata": {
    "collapsed": true
   },
   "outputs": [],
   "source": []
  }
 ],
 "metadata": {
  "kernelspec": {
   "display_name": "Python 3",
   "language": "python",
   "name": "python3"
  },
  "language_info": {
   "codemirror_mode": {
    "name": "ipython",
    "version": 3
   },
   "file_extension": ".py",
   "mimetype": "text/x-python",
   "name": "python",
   "nbconvert_exporter": "python",
   "pygments_lexer": "ipython3",
   "version": "3.5.1"
  }
 },
 "nbformat": 4,
 "nbformat_minor": 0
}
