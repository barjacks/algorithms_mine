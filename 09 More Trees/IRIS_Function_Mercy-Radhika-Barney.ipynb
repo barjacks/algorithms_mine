{
 "cells": [
  {
   "cell_type": "code",
   "execution_count": null,
   "metadata": {
    "collapsed": true
   },
   "outputs": [],
   "source": [
    "def iris(petallength, petalwidth):\n",
    "    if petalwidth <= .08:\n",
    "        if petalwidth <= 1.75 and petallength <= 4.95:\n",
    "            if petalwidth <= 1.65:\n",
    "                return 'class2'\n",
    "            else:\n",
    "                return 'class3'\n",
    "        else:\n",
    "            return 'class3'\n",
    "    else:\n",
    "        return 'class1'"
   ]
  }
 ],
 "metadata": {
  "kernelspec": {
   "display_name": "Python 3",
   "language": "python",
   "name": "python3"
  },
  "language_info": {
   "codemirror_mode": {
    "name": "ipython",
    "version": 3
   },
   "file_extension": ".py",
   "mimetype": "text/x-python",
   "name": "python",
   "nbconvert_exporter": "python",
   "pygments_lexer": "ipython3",
   "version": "3.5.1"
  }
 },
 "nbformat": 4,
 "nbformat_minor": 0
}
