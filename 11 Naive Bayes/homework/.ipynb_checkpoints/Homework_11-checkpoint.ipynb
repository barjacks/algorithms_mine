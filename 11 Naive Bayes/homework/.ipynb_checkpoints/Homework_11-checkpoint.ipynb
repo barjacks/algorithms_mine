{
 "cells": [
  {
   "cell_type": "markdown",
   "metadata": {},
   "source": [
    "# Classifying data, homework 11"
   ]
  },
  {
   "cell_type": "markdown",
   "metadata": {},
   "source": [
    "Let's CLASSIFY SOME DATA!\n",
    "\n",
    "We're going to be using a large dataset called \"20 newsgroups\" - it's a collection of posts people made on Usenet once upon a time in different groups, including:\n",
    "\n",
    "alt.atheism\n",
    "comp.graphics\n",
    "comp.os.ms-windows.misc\n",
    "comp.sys.ibm.pc.hardware\n",
    "comp.sys.mac.hardware\n",
    "comp.windows.x\n",
    "misc.forsale\n",
    "rec.autos\n",
    "rec.motorcycles\n",
    "rec.sport.baseball\n",
    "rec.sport.hockey\n",
    "sci.crypt\n",
    "sci.electronics\n",
    "sci.med\n",
    "sci.space\n",
    "soc.religion.christian\n",
    "talk.politics.guns\n",
    "talk.politics.mideast\n",
    "talk.politics.misc\n",
    "talk.religion.misc\n",
    "\n",
    "I've uploaded the data on Slack in #algorithms. Using this data...\n",
    "\n",
    "1. Import each file into its own row in a dataframe, with a column called \"content\" which has the content of the file and column called \"newsgroup\" which has the name of the newsgroup. To give you a nudge along: you'll want to use the glob library + a loop + create a list of arrays + create a dataframe out of it. I believe the tf-idf work we did near the end of Foundations used a similar process."
   ]
  },
  {
   "cell_type": "code",
   "execution_count": 1,
   "metadata": {
    "collapsed": true
   },
   "outputs": [],
   "source": [
    "import glob\n",
    "import pandas as pd\n",
    "\n",
    "from sklearn import preprocessing\n",
    "from sklearn.linear_model import LogisticRegression\n",
    "from sklearn import datasets, tree, metrics, svm\n",
    "from sklearn.cross_validation import train_test_split\n",
    "from sklearn import naive_bayes\n",
    "\n",
    "from sklearn.ensemble import RandomForestClassifier\n",
    "from sklearn import tree\n",
    "\n",
    "import statsmodels.api as sm"
   ]
  },
  {
   "cell_type": "code",
   "execution_count": 2,
   "metadata": {
    "collapsed": false
   },
   "outputs": [],
   "source": [
    "#Exploring the list of newsgroups\n",
    "list_of_names = []\n",
    "for name in glob.glob('20_newsgroups/*'):\n",
    "    name = name.split('/')[-1]\n",
    "    list_of_names.append(name)"
   ]
  },
  {
   "cell_type": "code",
   "execution_count": 3,
   "metadata": {
    "collapsed": false
   },
   "outputs": [],
   "source": [
    "#Creating large list of short lists, existing solely of \n",
    "news_group_text = []\n",
    "for newsgroup in list_of_names:\n",
    "    path = glob.glob('20_newsgroups/' + newsgroup + \"/*\")\n",
    "    for text in path:\n",
    "        new_list = []\n",
    "        with open(text, encoding=\"latin1\") as text_file:\n",
    "            texts = text_file.read()\n",
    "        new_list.append(texts)\n",
    "        new_list.append(newsgroup)\n",
    "        news_group_text.append(new_list)"
   ]
  },
  {
   "cell_type": "code",
   "execution_count": 4,
   "metadata": {
    "collapsed": false
   },
   "outputs": [],
   "source": [
    "#Creating a DataFrame\n",
    "df = pd.DataFrame(news_group_text)"
   ]
  },
  {
   "cell_type": "code",
   "execution_count": 5,
   "metadata": {
    "collapsed": false
   },
   "outputs": [],
   "source": [
    "#Renaming the columns\n",
    "df.columns = ['Text', 'Newsgroup']"
   ]
  },
  {
   "cell_type": "code",
   "execution_count": 6,
   "metadata": {
    "collapsed": false
   },
   "outputs": [
    {
     "name": "stdout",
     "output_type": "stream",
     "text": [
      "<class 'pandas.core.frame.DataFrame'>\n",
      "RangeIndex: 20417 entries, 0 to 20416\n",
      "Data columns (total 2 columns):\n",
      "Text         20417 non-null object\n",
      "Newsgroup    20417 non-null object\n",
      "dtypes: object(2)\n",
      "memory usage: 319.1+ KB\n"
     ]
    }
   ],
   "source": [
    "df.info()"
   ]
  },
  {
   "cell_type": "code",
   "execution_count": 7,
   "metadata": {
    "collapsed": false
   },
   "outputs": [
    {
     "data": {
      "text/html": [
       "<div>\n",
       "<table border=\"1\" class=\"dataframe\">\n",
       "  <thead>\n",
       "    <tr style=\"text-align: right;\">\n",
       "      <th></th>\n",
       "      <th>Text</th>\n",
       "      <th>Newsgroup</th>\n",
       "    </tr>\n",
       "  </thead>\n",
       "  <tbody>\n",
       "    <tr>\n",
       "      <th>0</th>\n",
       "      <td>Archive-name: atheism/resources\\nAlt-atheism-a...</td>\n",
       "      <td>alt.atheism</td>\n",
       "    </tr>\n",
       "    <tr>\n",
       "      <th>1</th>\n",
       "      <td>Archive-name: atheism/introduction\\nAlt-atheis...</td>\n",
       "      <td>alt.atheism</td>\n",
       "    </tr>\n",
       "    <tr>\n",
       "      <th>2</th>\n",
       "      <td>In article &lt;65974@mimsy.umd.edu&gt;\\nmangoe@cs.um...</td>\n",
       "      <td>alt.atheism</td>\n",
       "    </tr>\n",
       "    <tr>\n",
       "      <th>3</th>\n",
       "      <td>dmn@kepler.unh.edu (...until kings become phil...</td>\n",
       "      <td>alt.atheism</td>\n",
       "    </tr>\n",
       "    <tr>\n",
       "      <th>4</th>\n",
       "      <td>In article &lt;N4HY.93Apr5120934@harder.ccr-p.ida...</td>\n",
       "      <td>alt.atheism</td>\n",
       "    </tr>\n",
       "  </tbody>\n",
       "</table>\n",
       "</div>"
      ],
      "text/plain": [
       "                                                Text    Newsgroup\n",
       "0  Archive-name: atheism/resources\\nAlt-atheism-a...  alt.atheism\n",
       "1  Archive-name: atheism/introduction\\nAlt-atheis...  alt.atheism\n",
       "2  In article <65974@mimsy.umd.edu>\\nmangoe@cs.um...  alt.atheism\n",
       "3  dmn@kepler.unh.edu (...until kings become phil...  alt.atheism\n",
       "4  In article <N4HY.93Apr5120934@harder.ccr-p.ida...  alt.atheism"
      ]
     },
     "execution_count": 7,
     "metadata": {},
     "output_type": "execute_result"
    }
   ],
   "source": [
    "df.head(5)"
   ]
  },
  {
   "cell_type": "markdown",
   "metadata": {},
   "source": [
    "## 1.5 If you're feeling extra capable, use regular expressions to remove any lines that are quoting original emails, email addresses, or anything else that doesn't feel like actual meaningful content.\n"
   ]
  },
  {
   "cell_type": "code",
   "execution_count": 8,
   "metadata": {
    "collapsed": true
   },
   "outputs": [],
   "source": [
    "#Maybe later"
   ]
  },
  {
   "cell_type": "markdown",
   "metadata": {},
   "source": [
    "## 2.Use the LabelEncoder to convert the group names to numeric labels"
   ]
  },
  {
   "cell_type": "code",
   "execution_count": 9,
   "metadata": {
    "collapsed": true
   },
   "outputs": [],
   "source": [
    "from sklearn import preprocessing"
   ]
  },
  {
   "cell_type": "code",
   "execution_count": 10,
   "metadata": {
    "collapsed": true
   },
   "outputs": [],
   "source": [
    "le = preprocessing.LabelEncoder()"
   ]
  },
  {
   "cell_type": "code",
   "execution_count": 11,
   "metadata": {
    "collapsed": false
   },
   "outputs": [
    {
     "data": {
      "text/plain": [
       "LabelEncoder()"
      ]
     },
     "execution_count": 11,
     "metadata": {},
     "output_type": "execute_result"
    }
   ],
   "source": [
    "le.fit(df['Newsgroup'])"
   ]
  },
  {
   "cell_type": "code",
   "execution_count": 12,
   "metadata": {
    "collapsed": true
   },
   "outputs": [],
   "source": [
    "df['Newsgroup_label'] = le.transform(df['Newsgroup'])"
   ]
  },
  {
   "cell_type": "code",
   "execution_count": 13,
   "metadata": {
    "collapsed": false
   },
   "outputs": [
    {
     "data": {
      "text/html": [
       "<div>\n",
       "<table border=\"1\" class=\"dataframe\">\n",
       "  <thead>\n",
       "    <tr style=\"text-align: right;\">\n",
       "      <th></th>\n",
       "      <th>Text</th>\n",
       "      <th>Newsgroup</th>\n",
       "      <th>Newsgroup_label</th>\n",
       "    </tr>\n",
       "  </thead>\n",
       "  <tbody>\n",
       "    <tr>\n",
       "      <th>20412</th>\n",
       "      <td>In article &lt;930426.140835.4f1.rusnews.w165w@ma...</td>\n",
       "      <td>talk.religion.misc</td>\n",
       "      <td>19</td>\n",
       "    </tr>\n",
       "    <tr>\n",
       "      <th>20413</th>\n",
       "      <td>In article &lt;1993Apr27.073723.18577@csis.dit.cs...</td>\n",
       "      <td>talk.religion.misc</td>\n",
       "      <td>19</td>\n",
       "    </tr>\n",
       "    <tr>\n",
       "      <th>20414</th>\n",
       "      <td>In article &lt;1rc1f3INN7rl@emx.cc.utexas.edu&gt; \\n...</td>\n",
       "      <td>talk.religion.misc</td>\n",
       "      <td>19</td>\n",
       "    </tr>\n",
       "    <tr>\n",
       "      <th>20415</th>\n",
       "      <td>In article &lt;1993Apr26.231845.13843@digi.lonest...</td>\n",
       "      <td>talk.religion.misc</td>\n",
       "      <td>19</td>\n",
       "    </tr>\n",
       "    <tr>\n",
       "      <th>20416</th>\n",
       "      <td>In article &lt;C64H4w.BFH@darkside.osrhe.uoknor.e...</td>\n",
       "      <td>talk.religion.misc</td>\n",
       "      <td>19</td>\n",
       "    </tr>\n",
       "  </tbody>\n",
       "</table>\n",
       "</div>"
      ],
      "text/plain": [
       "                                                    Text           Newsgroup  \\\n",
       "20412  In article <930426.140835.4f1.rusnews.w165w@ma...  talk.religion.misc   \n",
       "20413  In article <1993Apr27.073723.18577@csis.dit.cs...  talk.religion.misc   \n",
       "20414  In article <1rc1f3INN7rl@emx.cc.utexas.edu> \\n...  talk.religion.misc   \n",
       "20415  In article <1993Apr26.231845.13843@digi.lonest...  talk.religion.misc   \n",
       "20416  In article <C64H4w.BFH@darkside.osrhe.uoknor.e...  talk.religion.misc   \n",
       "\n",
       "       Newsgroup_label  \n",
       "20412               19  \n",
       "20413               19  \n",
       "20414               19  \n",
       "20415               19  \n",
       "20416               19  "
      ]
     },
     "execution_count": 13,
     "metadata": {},
     "output_type": "execute_result"
    }
   ],
   "source": [
    "df.tail()"
   ]
  },
  {
   "cell_type": "markdown",
   "metadata": {},
   "source": [
    "## 3.Pick out 10 words or phrases to use as manually created features. Doing an 80/20 train/test split, how well does a Naive Bayes classifier do?\n"
   ]
  },
  {
   "cell_type": "code",
   "execution_count": 14,
   "metadata": {
    "collapsed": false
   },
   "outputs": [],
   "source": [
    "df['has_jesus'] = df['Text'].str.contains('Jesus')\n",
    "df['has_god'] = df['Text'].str.contains('God')\n",
    "df['has_satan'] = df['Text'].str.contains('Satan')\n",
    "df['has_mohammed'] = df['Text'].str.contains('Mohammed')\n",
    "df['has_maria'] = df['Text'].str.contains('Maria')\n",
    "df['has_devil'] = df['Text'].str.contains('Devil')\n",
    "df['has_priest'] = df['Text'].str.contains('priest')\n",
    "df['has_pope'] = df['Text'].str.contains('Pope')\n",
    "df['has_church'] = df['Text'].str.contains('church')\n",
    "df['has_mosque'] = df['Text'].str.contains('mosque')"
   ]
  },
  {
   "cell_type": "code",
   "execution_count": 15,
   "metadata": {
    "collapsed": false
   },
   "outputs": [
    {
     "data": {
      "text/html": [
       "<div>\n",
       "<table border=\"1\" class=\"dataframe\">\n",
       "  <thead>\n",
       "    <tr style=\"text-align: right;\">\n",
       "      <th></th>\n",
       "      <th>Text</th>\n",
       "      <th>Newsgroup</th>\n",
       "      <th>Newsgroup_label</th>\n",
       "      <th>has_jesus</th>\n",
       "      <th>has_god</th>\n",
       "      <th>has_satan</th>\n",
       "      <th>has_mohammed</th>\n",
       "      <th>has_maria</th>\n",
       "      <th>has_devil</th>\n",
       "      <th>has_priest</th>\n",
       "      <th>has_pope</th>\n",
       "      <th>has_church</th>\n",
       "      <th>has_mosque</th>\n",
       "    </tr>\n",
       "  </thead>\n",
       "  <tbody>\n",
       "    <tr>\n",
       "      <th>0</th>\n",
       "      <td>Archive-name: atheism/resources\\nAlt-atheism-a...</td>\n",
       "      <td>alt.atheism</td>\n",
       "      <td>0</td>\n",
       "      <td>False</td>\n",
       "      <td>True</td>\n",
       "      <td>False</td>\n",
       "      <td>False</td>\n",
       "      <td>False</td>\n",
       "      <td>True</td>\n",
       "      <td>False</td>\n",
       "      <td>False</td>\n",
       "      <td>True</td>\n",
       "      <td>False</td>\n",
       "    </tr>\n",
       "  </tbody>\n",
       "</table>\n",
       "</div>"
      ],
      "text/plain": [
       "                                                Text    Newsgroup  \\\n",
       "0  Archive-name: atheism/resources\\nAlt-atheism-a...  alt.atheism   \n",
       "\n",
       "   Newsgroup_label has_jesus has_god has_satan has_mohammed has_maria  \\\n",
       "0                0     False    True     False        False     False   \n",
       "\n",
       "  has_devil has_priest has_pope has_church has_mosque  \n",
       "0      True      False    False       True      False  "
      ]
     },
     "execution_count": 15,
     "metadata": {},
     "output_type": "execute_result"
    }
   ],
   "source": [
    "df.head(1)"
   ]
  },
  {
   "cell_type": "code",
   "execution_count": 16,
   "metadata": {
    "collapsed": false
   },
   "outputs": [],
   "source": [
    "X_train, X_test, y_train, y_test = train_test_split(\n",
    "    df[['has_jesus', 'has_god', 'has_satan', 'has_mohammed', 'has_maria', 'has_devil', 'has_priest', 'has_pope', 'has_church', 'has_mosque']], \n",
    "    df['Newsgroup_label'], \n",
    "    test_size=.2)"
   ]
  },
  {
   "cell_type": "code",
   "execution_count": 17,
   "metadata": {
    "collapsed": false
   },
   "outputs": [
    {
     "data": {
      "text/plain": [
       "BernoulliNB(alpha=1.0, binarize=0.0, class_prior=None, fit_prior=True)"
      ]
     },
     "execution_count": 17,
     "metadata": {},
     "output_type": "execute_result"
    }
   ],
   "source": [
    "#Create Bernoulli classifier\n",
    "clf = naive_bayes.BernoulliNB()\n",
    "#Feed classifier two things.\n",
    "clf.fit(X_train, y_train)"
   ]
  },
  {
   "cell_type": "code",
   "execution_count": 18,
   "metadata": {
    "collapsed": false
   },
   "outputs": [
    {
     "data": {
      "text/plain": [
       "0.097287699748974471"
      ]
     },
     "execution_count": 18,
     "metadata": {},
     "output_type": "execute_result"
    }
   ],
   "source": [
    "clf.score(X_train, y_train)"
   ]
  },
  {
   "cell_type": "code",
   "execution_count": 19,
   "metadata": {
    "collapsed": false
   },
   "outputs": [
    {
     "data": {
      "text/plain": [
       "0.092801175318315374"
      ]
     },
     "execution_count": 19,
     "metadata": {},
     "output_type": "execute_result"
    }
   ],
   "source": [
    "clf.score(X_test, y_test)"
   ]
  },
  {
   "cell_type": "markdown",
   "metadata": {},
   "source": [
    "## 4.Use a CountVectorizer to automatically create your list of features. Doing an 80/20 train/test split, how well can a Naive Bayes classifier do?"
   ]
  },
  {
   "cell_type": "code",
   "execution_count": 20,
   "metadata": {
    "collapsed": true
   },
   "outputs": [],
   "source": [
    "from sklearn.feature_extraction.text import CountVectorizer"
   ]
  },
  {
   "cell_type": "code",
   "execution_count": 21,
   "metadata": {
    "collapsed": true
   },
   "outputs": [],
   "source": [
    "#vectorizer = CountVectorizer()\n",
    "#Most popular quotes, and olive oil\n",
    "vectorizer = CountVectorizer()"
   ]
  },
  {
   "cell_type": "code",
   "execution_count": 22,
   "metadata": {
    "collapsed": false
   },
   "outputs": [
    {
     "data": {
      "text/plain": [
       "CountVectorizer(analyzer='word', binary=False, decode_error='strict',\n",
       "        dtype=<class 'numpy.int64'>, encoding='utf-8', input='content',\n",
       "        lowercase=True, max_df=1.0, max_features=None, min_df=1,\n",
       "        ngram_range=(1, 1), preprocessor=None, stop_words=None,\n",
       "        strip_accents=None, token_pattern='(?u)\\\\b\\\\w\\\\w+\\\\b',\n",
       "        tokenizer=None, vocabulary=None)"
      ]
     },
     "execution_count": 22,
     "metadata": {},
     "output_type": "execute_result"
    }
   ],
   "source": [
    "vectorizer.fit(df['Text'])"
   ]
  },
  {
   "cell_type": "code",
   "execution_count": 23,
   "metadata": {
    "collapsed": true
   },
   "outputs": [],
   "source": [
    "every_single_word_features = vectorizer.transform(df['Text'])"
   ]
  },
  {
   "cell_type": "code",
   "execution_count": 24,
   "metadata": {
    "collapsed": true
   },
   "outputs": [],
   "source": [
    "X_train, X_test, y_train, y_test = train_test_split(\n",
    "    every_single_word_features,\n",
    "    df['Newsgroup_label'], \n",
    "    test_size=.2)"
   ]
  },
  {
   "cell_type": "code",
   "execution_count": 25,
   "metadata": {
    "collapsed": false
   },
   "outputs": [
    {
     "data": {
      "text/plain": [
       "BernoulliNB(alpha=1.0, binarize=0.0, class_prior=None, fit_prior=True)"
      ]
     },
     "execution_count": 25,
     "metadata": {},
     "output_type": "execute_result"
    }
   ],
   "source": [
    "#Create Bernoulli classifier\n",
    "clf = naive_bayes.BernoulliNB()\n",
    "#Feed classifier two things.\n",
    "clf.fit(X_train, y_train)"
   ]
  },
  {
   "cell_type": "code",
   "execution_count": 26,
   "metadata": {
    "collapsed": false
   },
   "outputs": [
    {
     "data": {
      "text/plain": [
       "0.79005693993754977"
      ]
     },
     "execution_count": 26,
     "metadata": {},
     "output_type": "execute_result"
    }
   ],
   "source": [
    "clf.score(X_train, y_train)"
   ]
  },
  {
   "cell_type": "code",
   "execution_count": 27,
   "metadata": {
    "collapsed": false
   },
   "outputs": [
    {
     "data": {
      "text/plain": [
       "0.68952007835455431"
      ]
     },
     "execution_count": 27,
     "metadata": {},
     "output_type": "execute_result"
    }
   ],
   "source": [
    "clf.score(X_test, y_test)"
   ]
  },
  {
   "cell_type": "markdown",
   "metadata": {},
   "source": [
    "## 5. PUSH THAT SCORE UP! You can adjust ngrams, max_features and any other options of the vectorizer, or try a decision tree or any other type of classifier."
   ]
  },
  {
   "cell_type": "markdown",
   "metadata": {},
   "source": [
    "Turns out it doesn't work all that well, if you change ngram value"
   ]
  },
  {
   "cell_type": "code",
   "execution_count": 57,
   "metadata": {
    "collapsed": true
   },
   "outputs": [],
   "source": [
    "vectorizer = CountVectorizer(ngram_range=(1,2)) #, max_features=3000"
   ]
  },
  {
   "cell_type": "code",
   "execution_count": 58,
   "metadata": {
    "collapsed": false
   },
   "outputs": [
    {
     "data": {
      "text/plain": [
       "CountVectorizer(analyzer='word', binary=False, decode_error='strict',\n",
       "        dtype=<class 'numpy.int64'>, encoding='utf-8', input='content',\n",
       "        lowercase=True, max_df=1.0, max_features=None, min_df=1,\n",
       "        ngram_range=(1, 2), preprocessor=None, stop_words=None,\n",
       "        strip_accents=None, token_pattern='(?u)\\\\b\\\\w\\\\w+\\\\b',\n",
       "        tokenizer=None, vocabulary=None)"
      ]
     },
     "execution_count": 58,
     "metadata": {},
     "output_type": "execute_result"
    }
   ],
   "source": [
    "vectorizer.fit(df['Text'])"
   ]
  },
  {
   "cell_type": "code",
   "execution_count": 59,
   "metadata": {
    "collapsed": true
   },
   "outputs": [],
   "source": [
    "every_single_word_features = vectorizer.transform(df['Text'])"
   ]
  },
  {
   "cell_type": "code",
   "execution_count": null,
   "metadata": {
    "collapsed": true
   },
   "outputs": [],
   "source": [
    "X_train, X_test, y_train, y_test = train_test_split(\n",
    "    every_single_word_features,\n",
    "    df['Newsgroup_label'], \n",
    "    test_size=.2)"
   ]
  },
  {
   "cell_type": "code",
   "execution_count": 63,
   "metadata": {
    "collapsed": false
   },
   "outputs": [
    {
     "data": {
      "text/plain": [
       "BernoulliNB(alpha=1.0, binarize=0.0, class_prior=None, fit_prior=True)"
      ]
     },
     "execution_count": 63,
     "metadata": {},
     "output_type": "execute_result"
    }
   ],
   "source": [
    "#Create Bernoulli classifier\n",
    "clf = naive_bayes.BernoulliNB()\n",
    "#Feed classifier two things.\n",
    "clf.fit(X_train, y_train)"
   ]
  },
  {
   "cell_type": "code",
   "execution_count": 65,
   "metadata": {
    "collapsed": false
   },
   "outputs": [
    {
     "data": {
      "text/plain": [
       "0.65223780077144433"
      ]
     },
     "execution_count": 65,
     "metadata": {},
     "output_type": "execute_result"
    }
   ],
   "source": [
    "clf.score(X_train, y_train)"
   ]
  },
  {
   "cell_type": "code",
   "execution_count": 66,
   "metadata": {
    "collapsed": false
   },
   "outputs": [
    {
     "data": {
      "text/plain": [
       "0.66356513222331048"
      ]
     },
     "execution_count": 66,
     "metadata": {},
     "output_type": "execute_result"
    }
   ],
   "source": [
    "clf.score(X_test, y_test)"
   ]
  },
  {
   "cell_type": "code",
   "execution_count": null,
   "metadata": {
    "collapsed": false
   },
   "outputs": [],
   "source": [
    "#Random Forest\n",
    "\n",
    "forest_clf = RandomForestClassifier(n_estimators=20)\n",
    "%time forest_clf.fit(X_train, y_train)\n",
    "print(forest_clf.score(X_train, y_train))\n",
    "print(forest_clf.score(X_test, y_test))"
   ]
  },
  {
   "cell_type": "code",
   "execution_count": null,
   "metadata": {
    "collapsed": false
   },
   "outputs": [],
   "source": [
    "#Decision tree classifier\n",
    "dec_tree_clf = tree.DecisionTreeClassifier()\n",
    "%time  dec_tree_clf.fit(X_train, y_train)\n",
    "print(dec_tree_clf.score(X_train, y_train))\n",
    "print(dec_tree_clf.score(X_test, y_test))"
   ]
  },
  {
   "cell_type": "markdown",
   "metadata": {},
   "source": [
    "## 6. Write 15 sentences that, when run against the predictor, are put in 15 separate newsgroups (list the names of the newsgroups)."
   ]
  },
  {
   "cell_type": "code",
   "execution_count": 28,
   "metadata": {
    "collapsed": true
   },
   "outputs": [],
   "source": [
    "Sentence1 = 'For God so loved the world that he gave his one and only Son, that whoever believes in him shall not perish but have eternal life.'\n",
    "Sentence2 = 'For I know the plans I have for you,” declares the LORD, “plans to prosper you and not to harm you, plans to give you hope and a future.'\n",
    "Sentence3 = 'And we know that in all things God works for the good of those who love him, who have been called according to his purpose.'\n",
    "Sentence4 = 'I can do everything through him who gives me strength.'\n",
    "Sentence5 = 'Trust in the LORD with all your heart and lean not on your own understanding.'\n",
    "Sentence6 = 'Championships are made when the stands are empty.'\n",
    "Sentence7 = 'If you can’t run with the big dogs, stay on the porch!'\n",
    "Sentence8 = 'Individuals play the game, but teams beat the odds.'\n",
    "Sentence9 = 'It’s what you do before the season start that makes a champion.'\n",
    "Sentence10 = 'Offense sells tickets, Defense wins championships.'\n",
    "Sentence11 = 'Pain is temporary, pride is forever.'\n",
    "Sentence12 = 'Pain is weakness leaving the body.'\n",
    "Sentence13 = 'Practice doesn’t make perfect, perfect practice makes perfect.'\n",
    "Sentence14 = 'The more I sweat in practice, the less I bleed in battle.'\n",
    "Sentence15 = 'We don’t practice until we can get it right. We practice until we can’t get it wrong.'"
   ]
  },
  {
   "cell_type": "code",
   "execution_count": 29,
   "metadata": {
    "collapsed": false
   },
   "outputs": [],
   "source": [
    "s = [Sentence1] + [Sentence2] + [Sentence3] + [Sentence4] + [Sentence5] + \\\n",
    "[Sentence6] + [Sentence7] + [Sentence8] + [Sentence9] + [Sentence10] + \\\n",
    "[Sentence11] + [Sentence12] + [Sentence13] + [Sentence14] + [Sentence15]"
   ]
  },
  {
   "cell_type": "code",
   "execution_count": 30,
   "metadata": {
    "collapsed": true
   },
   "outputs": [],
   "source": [
    "sentences_words_features = vectorizer.transform(s)"
   ]
  },
  {
   "cell_type": "code",
   "execution_count": 31,
   "metadata": {
    "collapsed": true
   },
   "outputs": [],
   "source": [
    "X_train, X_test, y_train, y_test = train_test_split(\n",
    "    every_single_word_features,\n",
    "    df['Newsgroup_label'], \n",
    "    test_size=.2)"
   ]
  },
  {
   "cell_type": "code",
   "execution_count": 32,
   "metadata": {
    "collapsed": false
   },
   "outputs": [
    {
     "data": {
      "text/plain": [
       "BernoulliNB(alpha=1.0, binarize=0.0, class_prior=None, fit_prior=True)"
      ]
     },
     "execution_count": 32,
     "metadata": {},
     "output_type": "execute_result"
    }
   ],
   "source": [
    "clf = naive_bayes.BernoulliNB()\n",
    "clf.fit(X_train, y_train)"
   ]
  },
  {
   "cell_type": "code",
   "execution_count": 33,
   "metadata": {
    "collapsed": false
   },
   "outputs": [
    {
     "data": {
      "text/plain": [
       "array([6, 6, 6, 6, 6, 6, 6, 6, 6, 6, 6, 6, 6, 6, 6])"
      ]
     },
     "execution_count": 33,
     "metadata": {},
     "output_type": "execute_result"
    }
   ],
   "source": [
    "predictions = clf.predict(sentences_words_features)\n",
    "predictions"
   ]
  },
  {
   "cell_type": "code",
   "execution_count": 34,
   "metadata": {
    "collapsed": false
   },
   "outputs": [
    {
     "data": {
      "text/plain": [
       "array(['misc.forsale', 'misc.forsale', 'misc.forsale', 'misc.forsale',\n",
       "       'misc.forsale', 'misc.forsale', 'misc.forsale', 'misc.forsale',\n",
       "       'misc.forsale', 'misc.forsale', 'misc.forsale', 'misc.forsale',\n",
       "       'misc.forsale', 'misc.forsale', 'misc.forsale'], dtype=object)"
      ]
     },
     "execution_count": 34,
     "metadata": {},
     "output_type": "execute_result"
    }
   ],
   "source": [
    "le.inverse_transform(predictions)"
   ]
  },
  {
   "cell_type": "code",
   "execution_count": 35,
   "metadata": {
    "collapsed": false
   },
   "outputs": [
    {
     "data": {
      "text/html": [
       "<div>\n",
       "<table border=\"1\" class=\"dataframe\">\n",
       "  <thead>\n",
       "    <tr style=\"text-align: right;\">\n",
       "      <th></th>\n",
       "      <th>Text</th>\n",
       "      <th>Newsgroup</th>\n",
       "      <th>Newsgroup_label</th>\n",
       "      <th>has_jesus</th>\n",
       "      <th>has_god</th>\n",
       "      <th>has_satan</th>\n",
       "      <th>has_mohammed</th>\n",
       "      <th>has_maria</th>\n",
       "      <th>has_devil</th>\n",
       "      <th>has_priest</th>\n",
       "      <th>has_pope</th>\n",
       "      <th>has_church</th>\n",
       "      <th>has_mosque</th>\n",
       "    </tr>\n",
       "  </thead>\n",
       "  <tbody>\n",
       "    <tr>\n",
       "      <th>0</th>\n",
       "      <td>Archive-name: atheism/resources\\nAlt-atheism-a...</td>\n",
       "      <td>alt.atheism</td>\n",
       "      <td>0</td>\n",
       "      <td>False</td>\n",
       "      <td>True</td>\n",
       "      <td>False</td>\n",
       "      <td>False</td>\n",
       "      <td>False</td>\n",
       "      <td>True</td>\n",
       "      <td>False</td>\n",
       "      <td>False</td>\n",
       "      <td>True</td>\n",
       "      <td>False</td>\n",
       "    </tr>\n",
       "    <tr>\n",
       "      <th>1</th>\n",
       "      <td>Archive-name: atheism/introduction\\nAlt-atheis...</td>\n",
       "      <td>alt.atheism</td>\n",
       "      <td>0</td>\n",
       "      <td>True</td>\n",
       "      <td>True</td>\n",
       "      <td>False</td>\n",
       "      <td>False</td>\n",
       "      <td>False</td>\n",
       "      <td>False</td>\n",
       "      <td>True</td>\n",
       "      <td>False</td>\n",
       "      <td>True</td>\n",
       "      <td>False</td>\n",
       "    </tr>\n",
       "    <tr>\n",
       "      <th>2</th>\n",
       "      <td>In article &lt;65974@mimsy.umd.edu&gt;\\nmangoe@cs.um...</td>\n",
       "      <td>alt.atheism</td>\n",
       "      <td>0</td>\n",
       "      <td>True</td>\n",
       "      <td>False</td>\n",
       "      <td>False</td>\n",
       "      <td>False</td>\n",
       "      <td>False</td>\n",
       "      <td>False</td>\n",
       "      <td>False</td>\n",
       "      <td>False</td>\n",
       "      <td>False</td>\n",
       "      <td>False</td>\n",
       "    </tr>\n",
       "    <tr>\n",
       "      <th>3</th>\n",
       "      <td>dmn@kepler.unh.edu (...until kings become phil...</td>\n",
       "      <td>alt.atheism</td>\n",
       "      <td>0</td>\n",
       "      <td>True</td>\n",
       "      <td>False</td>\n",
       "      <td>False</td>\n",
       "      <td>False</td>\n",
       "      <td>False</td>\n",
       "      <td>False</td>\n",
       "      <td>False</td>\n",
       "      <td>False</td>\n",
       "      <td>True</td>\n",
       "      <td>False</td>\n",
       "    </tr>\n",
       "    <tr>\n",
       "      <th>4</th>\n",
       "      <td>In article &lt;N4HY.93Apr5120934@harder.ccr-p.ida...</td>\n",
       "      <td>alt.atheism</td>\n",
       "      <td>0</td>\n",
       "      <td>False</td>\n",
       "      <td>False</td>\n",
       "      <td>False</td>\n",
       "      <td>False</td>\n",
       "      <td>False</td>\n",
       "      <td>False</td>\n",
       "      <td>False</td>\n",
       "      <td>False</td>\n",
       "      <td>False</td>\n",
       "      <td>False</td>\n",
       "    </tr>\n",
       "  </tbody>\n",
       "</table>\n",
       "</div>"
      ],
      "text/plain": [
       "                                                Text    Newsgroup  \\\n",
       "0  Archive-name: atheism/resources\\nAlt-atheism-a...  alt.atheism   \n",
       "1  Archive-name: atheism/introduction\\nAlt-atheis...  alt.atheism   \n",
       "2  In article <65974@mimsy.umd.edu>\\nmangoe@cs.um...  alt.atheism   \n",
       "3  dmn@kepler.unh.edu (...until kings become phil...  alt.atheism   \n",
       "4  In article <N4HY.93Apr5120934@harder.ccr-p.ida...  alt.atheism   \n",
       "\n",
       "   Newsgroup_label has_jesus has_god has_satan has_mohammed has_maria  \\\n",
       "0                0     False    True     False        False     False   \n",
       "1                0      True    True     False        False     False   \n",
       "2                0      True   False     False        False     False   \n",
       "3                0      True   False     False        False     False   \n",
       "4                0     False   False     False        False     False   \n",
       "\n",
       "  has_devil has_priest has_pope has_church has_mosque  \n",
       "0      True      False    False       True      False  \n",
       "1     False       True    False       True      False  \n",
       "2     False      False    False      False      False  \n",
       "3     False      False    False       True      False  \n",
       "4     False      False    False      False      False  "
      ]
     },
     "execution_count": 35,
     "metadata": {},
     "output_type": "execute_result"
    }
   ],
   "source": [
    "df.head()"
   ]
  },
  {
   "cell_type": "code",
   "execution_count": null,
   "metadata": {
    "collapsed": true
   },
   "outputs": [],
   "source": []
  }
 ],
 "metadata": {
  "kernelspec": {
   "display_name": "Python 3",
   "language": "python",
   "name": "python3"
  },
  "language_info": {
   "codemirror_mode": {
    "name": "ipython",
    "version": 3
   },
   "file_extension": ".py",
   "mimetype": "text/x-python",
   "name": "python",
   "nbconvert_exporter": "python",
   "pygments_lexer": "ipython3",
   "version": "3.5.1"
  }
 },
 "nbformat": 4,
 "nbformat_minor": 0
}
