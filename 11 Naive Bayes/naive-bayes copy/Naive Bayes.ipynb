{
 "cells": [
  {
   "cell_type": "markdown",
   "metadata": {},
   "source": [
    "# Algorithms: Rules of Play\n",
    "\n",
    "1. Name of the algorithm\n",
    "2. What it's used for (classification, clustering, maybe other things?)\n",
    "3. Why is it better/worse than other classification/clustering/etc algorithms\n",
    "4. How to get our data into a format that is good for that algorithm\n",
    "4. REALISTIC data sets\n",
    "5. What the output means technically\n",
    "6. What the output means in like real life language and practically speaking\n",
    "7. What kind of datasets you use this algorithm for\n",
    "8. Examples of when it was used in journalism OR maybe could have been used\n",
    "9. Examples of when it was used period\n",
    "10. Pitfalls\n",
    "11. Maybe maybe maybe a little bit of math\n",
    "12. How to ground them for a less technical audience and to help engage them in what the algorithm is doing"
   ]
  },
  {
   "cell_type": "markdown",
   "metadata": {},
   "source": [
    "# Naive Bayes\n",
    "\n",
    "Download and extract `recipes.csv.zip` from `#algorithms` and start a new Jupyter Notebook!!!!\n",
    "\n",
    "**Classification algorithm** - spam filter\n",
    "\n",
    "The more spammy words that are in an email, the more like it is to be spam"
   ]
  },
  {
   "cell_type": "code",
   "execution_count": 1,
   "metadata": {
    "collapsed": true
   },
   "outputs": [],
   "source": [
    "import pandas as pd\n",
    "import matplotlib.pyplot as plt\n",
    "%matplotlib inline"
   ]
  },
  {
   "cell_type": "code",
   "execution_count": 2,
   "metadata": {
    "collapsed": false
   },
   "outputs": [
    {
     "data": {
      "text/html": [
       "<div>\n",
       "<table border=\"1\" class=\"dataframe\">\n",
       "  <thead>\n",
       "    <tr style=\"text-align: right;\">\n",
       "      <th></th>\n",
       "      <th>cuisine</th>\n",
       "      <th>id</th>\n",
       "      <th>ingredient_list</th>\n",
       "    </tr>\n",
       "  </thead>\n",
       "  <tbody>\n",
       "    <tr>\n",
       "      <th>0</th>\n",
       "      <td>greek</td>\n",
       "      <td>10259</td>\n",
       "      <td>romaine lettuce, black olives, grape tomatoes,...</td>\n",
       "    </tr>\n",
       "    <tr>\n",
       "      <th>1</th>\n",
       "      <td>southern_us</td>\n",
       "      <td>25693</td>\n",
       "      <td>plain flour, ground pepper, salt, tomatoes, gr...</td>\n",
       "    </tr>\n",
       "    <tr>\n",
       "      <th>2</th>\n",
       "      <td>filipino</td>\n",
       "      <td>20130</td>\n",
       "      <td>eggs, pepper, salt, mayonaise, cooking oil, gr...</td>\n",
       "    </tr>\n",
       "    <tr>\n",
       "      <th>3</th>\n",
       "      <td>indian</td>\n",
       "      <td>22213</td>\n",
       "      <td>water, vegetable oil, wheat, salt</td>\n",
       "    </tr>\n",
       "    <tr>\n",
       "      <th>4</th>\n",
       "      <td>indian</td>\n",
       "      <td>13162</td>\n",
       "      <td>black pepper, shallots, cornflour, cayenne pep...</td>\n",
       "    </tr>\n",
       "  </tbody>\n",
       "</table>\n",
       "</div>"
      ],
      "text/plain": [
       "       cuisine     id                                    ingredient_list\n",
       "0        greek  10259  romaine lettuce, black olives, grape tomatoes,...\n",
       "1  southern_us  25693  plain flour, ground pepper, salt, tomatoes, gr...\n",
       "2     filipino  20130  eggs, pepper, salt, mayonaise, cooking oil, gr...\n",
       "3       indian  22213                  water, vegetable oil, wheat, salt\n",
       "4       indian  13162  black pepper, shallots, cornflour, cayenne pep..."
      ]
     },
     "execution_count": 2,
     "metadata": {},
     "output_type": "execute_result"
    }
   ],
   "source": [
    "df = pd.read_csv(\"recipes.csv\")\n",
    "df.head()"
   ]
  },
  {
   "cell_type": "markdown",
   "metadata": {},
   "source": [
    "# QUESTION ONE: What are we doing and why are we using Naive Bayes?\n",
    "\n",
    "We have a bunch of recipes in categories. Maybe someone sends us new recipes, what category do the new recipes belong in?\n",
    "\n",
    "We're going to train a classifier to recognize italian food, so that if someone sends us new recipes, we know if it's italian because we love italian food and we only want to eat italian food.\n",
    "\n",
    "RULE IS: For classification algorithms, YOU MUST HAVE CATEGORIES ON YOUR ORIGINAL DATASET.\n",
    "\n",
    "**For clustering**\n",
    "\n",
    "1. You'll get a lot of documents\n",
    "2. You feed it to an algorithm, tell it create `x` number of categories\n",
    "3. The machine gives you back categories whether they make sense or not\n",
    "\n",
    "**For classification (which we are doing now)**\n",
    "\n",
    "1. You'll get a lot of documents\n",
    "2. You'll classify some of them into categories that you know and love\n",
    "3. You'll ask the algorithm what categories a new bunch of unlabeled documents end up in\n",
    "\n",
    "All mean the same thing: CATEGORY = CLASS = LABEL\n",
    "\n",
    "The reason why you use machine learning is to not do things manually. So if you can do things manually, do it. Otherwise just try different algorithms until one works well (but you might need to know some upsides or downsides of each to interpret that).\n",
    "\n",
    "## How does Naive Bayes work?\n",
    "\n",
    "NAIVE BAYES WORKS WITH TEXT (kind of)\n",
    "\n",
    "**Bayes Theorem (kind of)**\n",
    "\n",
    "* If you see a word that is normally in a spam email, there's a higher chance it's spam\n",
    "* If you see a word that is normally in a non-spam email, there's a higher chance it's not spam\n",
    "\n",
    "**Naive:** every word/ingredient/etc is independent of any other word\n",
    "\n",
    "FOR US: If you see ingredients that are normally in italian food, it's probably italian\n",
    "\n",
    "Secret trick: you can't just use text, you have to convert into numbers\n",
    "\n",
    "## Types of Naive Bayes\n",
    "\n",
    "Naive Bayes works on words, and SOMETIMES your text is long and SOMETIMES your text is short.\n",
    "\n",
    "**Multinominal Naive Bayes - (multiple numbers)**: You count the words. You care about whether a word appears once or twice or three times or ten times. *This is better for long passages*\n",
    "\n",
    "**Bernoulli Naive Bayes - True/False Bayes:** You only care if the word shows up (`True`) or it doesn't show up (`False`) - *this is better for short passages*\n"
   ]
  },
  {
   "cell_type": "markdown",
   "metadata": {},
   "source": [
    "# STEP ONE: Let's convert our text data into numerical data"
   ]
  },
  {
   "cell_type": "code",
   "execution_count": 3,
   "metadata": {
    "collapsed": false
   },
   "outputs": [
    {
     "data": {
      "text/html": [
       "<div>\n",
       "<table border=\"1\" class=\"dataframe\">\n",
       "  <thead>\n",
       "    <tr style=\"text-align: right;\">\n",
       "      <th></th>\n",
       "      <th>cuisine</th>\n",
       "      <th>id</th>\n",
       "      <th>ingredient_list</th>\n",
       "    </tr>\n",
       "  </thead>\n",
       "  <tbody>\n",
       "    <tr>\n",
       "      <th>0</th>\n",
       "      <td>greek</td>\n",
       "      <td>10259</td>\n",
       "      <td>romaine lettuce, black olives, grape tomatoes,...</td>\n",
       "    </tr>\n",
       "    <tr>\n",
       "      <th>1</th>\n",
       "      <td>southern_us</td>\n",
       "      <td>25693</td>\n",
       "      <td>plain flour, ground pepper, salt, tomatoes, gr...</td>\n",
       "    </tr>\n",
       "    <tr>\n",
       "      <th>2</th>\n",
       "      <td>filipino</td>\n",
       "      <td>20130</td>\n",
       "      <td>eggs, pepper, salt, mayonaise, cooking oil, gr...</td>\n",
       "    </tr>\n",
       "    <tr>\n",
       "      <th>3</th>\n",
       "      <td>indian</td>\n",
       "      <td>22213</td>\n",
       "      <td>water, vegetable oil, wheat, salt</td>\n",
       "    </tr>\n",
       "    <tr>\n",
       "      <th>4</th>\n",
       "      <td>indian</td>\n",
       "      <td>13162</td>\n",
       "      <td>black pepper, shallots, cornflour, cayenne pep...</td>\n",
       "    </tr>\n",
       "  </tbody>\n",
       "</table>\n",
       "</div>"
      ],
      "text/plain": [
       "       cuisine     id                                    ingredient_list\n",
       "0        greek  10259  romaine lettuce, black olives, grape tomatoes,...\n",
       "1  southern_us  25693  plain flour, ground pepper, salt, tomatoes, gr...\n",
       "2     filipino  20130  eggs, pepper, salt, mayonaise, cooking oil, gr...\n",
       "3       indian  22213                  water, vegetable oil, wheat, salt\n",
       "4       indian  13162  black pepper, shallots, cornflour, cayenne pep..."
      ]
     },
     "execution_count": 3,
     "metadata": {},
     "output_type": "execute_result"
    }
   ],
   "source": [
    "df.head()"
   ]
  },
  {
   "cell_type": "markdown",
   "metadata": {},
   "source": [
    "**Our problem:** Everything is text - cuisine is text, ingredient list is text, id is a number but it doesn't matter"
   ]
  },
  {
   "cell_type": "markdown",
   "metadata": {},
   "source": [
    "**Two things to convert into numbers:**\n",
    "\n",
    "* Our labels (a.k.a. the categories everything belongs in)\n",
    "* Our features"
   ]
  },
  {
   "cell_type": "markdown",
   "metadata": {},
   "source": [
    "## Converting our labels into numbers\n",
    "\n",
    "We have two labels\n",
    "\n",
    "* italian = `1`\n",
    "* not italian = `0`"
   ]
  },
  {
   "cell_type": "code",
   "execution_count": 6,
   "metadata": {
    "collapsed": false
   },
   "outputs": [
    {
     "data": {
      "text/html": [
       "<div>\n",
       "<table border=\"1\" class=\"dataframe\">\n",
       "  <thead>\n",
       "    <tr style=\"text-align: right;\">\n",
       "      <th></th>\n",
       "      <th>cuisine</th>\n",
       "      <th>id</th>\n",
       "      <th>ingredient_list</th>\n",
       "    </tr>\n",
       "  </thead>\n",
       "  <tbody>\n",
       "    <tr>\n",
       "      <th>0</th>\n",
       "      <td>greek</td>\n",
       "      <td>10259</td>\n",
       "      <td>romaine lettuce, black olives, grape tomatoes,...</td>\n",
       "    </tr>\n",
       "    <tr>\n",
       "      <th>1</th>\n",
       "      <td>southern_us</td>\n",
       "      <td>25693</td>\n",
       "      <td>plain flour, ground pepper, salt, tomatoes, gr...</td>\n",
       "    </tr>\n",
       "    <tr>\n",
       "      <th>2</th>\n",
       "      <td>filipino</td>\n",
       "      <td>20130</td>\n",
       "      <td>eggs, pepper, salt, mayonaise, cooking oil, gr...</td>\n",
       "    </tr>\n",
       "    <tr>\n",
       "      <th>3</th>\n",
       "      <td>indian</td>\n",
       "      <td>22213</td>\n",
       "      <td>water, vegetable oil, wheat, salt</td>\n",
       "    </tr>\n",
       "    <tr>\n",
       "      <th>4</th>\n",
       "      <td>indian</td>\n",
       "      <td>13162</td>\n",
       "      <td>black pepper, shallots, cornflour, cayenne pep...</td>\n",
       "    </tr>\n",
       "  </tbody>\n",
       "</table>\n",
       "</div>"
      ],
      "text/plain": [
       "       cuisine     id                                    ingredient_list\n",
       "0        greek  10259  romaine lettuce, black olives, grape tomatoes,...\n",
       "1  southern_us  25693  plain flour, ground pepper, salt, tomatoes, gr...\n",
       "2     filipino  20130  eggs, pepper, salt, mayonaise, cooking oil, gr...\n",
       "3       indian  22213                  water, vegetable oil, wheat, salt\n",
       "4       indian  13162  black pepper, shallots, cornflour, cayenne pep..."
      ]
     },
     "execution_count": 6,
     "metadata": {},
     "output_type": "execute_result"
    }
   ],
   "source": [
    "df.head()"
   ]
  },
  {
   "cell_type": "code",
   "execution_count": 8,
   "metadata": {
    "collapsed": false
   },
   "outputs": [],
   "source": [
    "def make_label(cuisine):\n",
    "    if cuisine == \"italian\":\n",
    "        return 1\n",
    "    else:\n",
    "        return 0"
   ]
  },
  {
   "cell_type": "code",
   "execution_count": 11,
   "metadata": {
    "collapsed": false
   },
   "outputs": [
    {
     "data": {
      "text/html": [
       "<div>\n",
       "<table border=\"1\" class=\"dataframe\">\n",
       "  <thead>\n",
       "    <tr style=\"text-align: right;\">\n",
       "      <th></th>\n",
       "      <th>cuisine</th>\n",
       "      <th>id</th>\n",
       "      <th>ingredient_list</th>\n",
       "      <th>label</th>\n",
       "    </tr>\n",
       "  </thead>\n",
       "  <tbody>\n",
       "    <tr>\n",
       "      <th>0</th>\n",
       "      <td>greek</td>\n",
       "      <td>10259</td>\n",
       "      <td>romaine lettuce, black olives, grape tomatoes,...</td>\n",
       "      <td>0</td>\n",
       "    </tr>\n",
       "    <tr>\n",
       "      <th>1</th>\n",
       "      <td>southern_us</td>\n",
       "      <td>25693</td>\n",
       "      <td>plain flour, ground pepper, salt, tomatoes, gr...</td>\n",
       "      <td>0</td>\n",
       "    </tr>\n",
       "    <tr>\n",
       "      <th>2</th>\n",
       "      <td>filipino</td>\n",
       "      <td>20130</td>\n",
       "      <td>eggs, pepper, salt, mayonaise, cooking oil, gr...</td>\n",
       "      <td>0</td>\n",
       "    </tr>\n",
       "    <tr>\n",
       "      <th>3</th>\n",
       "      <td>indian</td>\n",
       "      <td>22213</td>\n",
       "      <td>water, vegetable oil, wheat, salt</td>\n",
       "      <td>0</td>\n",
       "    </tr>\n",
       "    <tr>\n",
       "      <th>4</th>\n",
       "      <td>indian</td>\n",
       "      <td>13162</td>\n",
       "      <td>black pepper, shallots, cornflour, cayenne pep...</td>\n",
       "      <td>0</td>\n",
       "    </tr>\n",
       "    <tr>\n",
       "      <th>5</th>\n",
       "      <td>jamaican</td>\n",
       "      <td>6602</td>\n",
       "      <td>plain flour, sugar, butter, eggs, fresh ginger...</td>\n",
       "      <td>0</td>\n",
       "    </tr>\n",
       "    <tr>\n",
       "      <th>6</th>\n",
       "      <td>spanish</td>\n",
       "      <td>42779</td>\n",
       "      <td>olive oil, salt, medium shrimp, pepper, garlic...</td>\n",
       "      <td>0</td>\n",
       "    </tr>\n",
       "    <tr>\n",
       "      <th>7</th>\n",
       "      <td>italian</td>\n",
       "      <td>3735</td>\n",
       "      <td>sugar, pistachio nuts, white almond bark, flou...</td>\n",
       "      <td>1</td>\n",
       "    </tr>\n",
       "    <tr>\n",
       "      <th>8</th>\n",
       "      <td>mexican</td>\n",
       "      <td>16903</td>\n",
       "      <td>olive oil, purple onion, fresh pineapple, pork...</td>\n",
       "      <td>0</td>\n",
       "    </tr>\n",
       "    <tr>\n",
       "      <th>9</th>\n",
       "      <td>italian</td>\n",
       "      <td>12734</td>\n",
       "      <td>chopped tomatoes, fresh basil, garlic, extra-v...</td>\n",
       "      <td>1</td>\n",
       "    </tr>\n",
       "  </tbody>\n",
       "</table>\n",
       "</div>"
      ],
      "text/plain": [
       "       cuisine     id                                    ingredient_list  \\\n",
       "0        greek  10259  romaine lettuce, black olives, grape tomatoes,...   \n",
       "1  southern_us  25693  plain flour, ground pepper, salt, tomatoes, gr...   \n",
       "2     filipino  20130  eggs, pepper, salt, mayonaise, cooking oil, gr...   \n",
       "3       indian  22213                  water, vegetable oil, wheat, salt   \n",
       "4       indian  13162  black pepper, shallots, cornflour, cayenne pep...   \n",
       "5     jamaican   6602  plain flour, sugar, butter, eggs, fresh ginger...   \n",
       "6      spanish  42779  olive oil, salt, medium shrimp, pepper, garlic...   \n",
       "7      italian   3735  sugar, pistachio nuts, white almond bark, flou...   \n",
       "8      mexican  16903  olive oil, purple onion, fresh pineapple, pork...   \n",
       "9      italian  12734  chopped tomatoes, fresh basil, garlic, extra-v...   \n",
       "\n",
       "   label  \n",
       "0      0  \n",
       "1      0  \n",
       "2      0  \n",
       "3      0  \n",
       "4      0  \n",
       "5      0  \n",
       "6      0  \n",
       "7      1  \n",
       "8      0  \n",
       "9      1  "
      ]
     },
     "execution_count": 11,
     "metadata": {},
     "output_type": "execute_result"
    }
   ],
   "source": [
    "df['label'] = df['cuisine'].apply(make_label)\n",
    "df.head(10)"
   ]
  },
  {
   "cell_type": "markdown",
   "metadata": {},
   "source": [
    "## Converting our features into numbers\n",
    "\n",
    "**Feature selection:** The process of selecting the features that matter, in this case - what ingredients do we want to look at?\n",
    "\n",
    "Our feature is going to be: whether it has spaghetti or not"
   ]
  },
  {
   "cell_type": "code",
   "execution_count": 14,
   "metadata": {
    "collapsed": false
   },
   "outputs": [
    {
     "data": {
      "text/html": [
       "<div>\n",
       "<table border=\"1\" class=\"dataframe\">\n",
       "  <thead>\n",
       "    <tr style=\"text-align: right;\">\n",
       "      <th></th>\n",
       "      <th>cuisine</th>\n",
       "      <th>id</th>\n",
       "      <th>ingredient_list</th>\n",
       "      <th>label</th>\n",
       "      <th>has_spaghetti</th>\n",
       "      <th>has_curry_powder</th>\n",
       "    </tr>\n",
       "  </thead>\n",
       "  <tbody>\n",
       "    <tr>\n",
       "      <th>0</th>\n",
       "      <td>greek</td>\n",
       "      <td>10259</td>\n",
       "      <td>romaine lettuce, black olives, grape tomatoes,...</td>\n",
       "      <td>0</td>\n",
       "      <td>False</td>\n",
       "      <td>False</td>\n",
       "    </tr>\n",
       "    <tr>\n",
       "      <th>1</th>\n",
       "      <td>southern_us</td>\n",
       "      <td>25693</td>\n",
       "      <td>plain flour, ground pepper, salt, tomatoes, gr...</td>\n",
       "      <td>0</td>\n",
       "      <td>False</td>\n",
       "      <td>False</td>\n",
       "    </tr>\n",
       "    <tr>\n",
       "      <th>2</th>\n",
       "      <td>filipino</td>\n",
       "      <td>20130</td>\n",
       "      <td>eggs, pepper, salt, mayonaise, cooking oil, gr...</td>\n",
       "      <td>0</td>\n",
       "      <td>False</td>\n",
       "      <td>False</td>\n",
       "    </tr>\n",
       "    <tr>\n",
       "      <th>3</th>\n",
       "      <td>indian</td>\n",
       "      <td>22213</td>\n",
       "      <td>water, vegetable oil, wheat, salt</td>\n",
       "      <td>0</td>\n",
       "      <td>False</td>\n",
       "      <td>False</td>\n",
       "    </tr>\n",
       "    <tr>\n",
       "      <th>4</th>\n",
       "      <td>indian</td>\n",
       "      <td>13162</td>\n",
       "      <td>black pepper, shallots, cornflour, cayenne pep...</td>\n",
       "      <td>0</td>\n",
       "      <td>False</td>\n",
       "      <td>False</td>\n",
       "    </tr>\n",
       "    <tr>\n",
       "      <th>5</th>\n",
       "      <td>jamaican</td>\n",
       "      <td>6602</td>\n",
       "      <td>plain flour, sugar, butter, eggs, fresh ginger...</td>\n",
       "      <td>0</td>\n",
       "      <td>False</td>\n",
       "      <td>False</td>\n",
       "    </tr>\n",
       "    <tr>\n",
       "      <th>6</th>\n",
       "      <td>spanish</td>\n",
       "      <td>42779</td>\n",
       "      <td>olive oil, salt, medium shrimp, pepper, garlic...</td>\n",
       "      <td>0</td>\n",
       "      <td>False</td>\n",
       "      <td>False</td>\n",
       "    </tr>\n",
       "    <tr>\n",
       "      <th>7</th>\n",
       "      <td>italian</td>\n",
       "      <td>3735</td>\n",
       "      <td>sugar, pistachio nuts, white almond bark, flou...</td>\n",
       "      <td>1</td>\n",
       "      <td>False</td>\n",
       "      <td>False</td>\n",
       "    </tr>\n",
       "    <tr>\n",
       "      <th>8</th>\n",
       "      <td>mexican</td>\n",
       "      <td>16903</td>\n",
       "      <td>olive oil, purple onion, fresh pineapple, pork...</td>\n",
       "      <td>0</td>\n",
       "      <td>False</td>\n",
       "      <td>False</td>\n",
       "    </tr>\n",
       "    <tr>\n",
       "      <th>9</th>\n",
       "      <td>italian</td>\n",
       "      <td>12734</td>\n",
       "      <td>chopped tomatoes, fresh basil, garlic, extra-v...</td>\n",
       "      <td>1</td>\n",
       "      <td>False</td>\n",
       "      <td>False</td>\n",
       "    </tr>\n",
       "  </tbody>\n",
       "</table>\n",
       "</div>"
      ],
      "text/plain": [
       "       cuisine     id                                    ingredient_list  \\\n",
       "0        greek  10259  romaine lettuce, black olives, grape tomatoes,...   \n",
       "1  southern_us  25693  plain flour, ground pepper, salt, tomatoes, gr...   \n",
       "2     filipino  20130  eggs, pepper, salt, mayonaise, cooking oil, gr...   \n",
       "3       indian  22213                  water, vegetable oil, wheat, salt   \n",
       "4       indian  13162  black pepper, shallots, cornflour, cayenne pep...   \n",
       "5     jamaican   6602  plain flour, sugar, butter, eggs, fresh ginger...   \n",
       "6      spanish  42779  olive oil, salt, medium shrimp, pepper, garlic...   \n",
       "7      italian   3735  sugar, pistachio nuts, white almond bark, flou...   \n",
       "8      mexican  16903  olive oil, purple onion, fresh pineapple, pork...   \n",
       "9      italian  12734  chopped tomatoes, fresh basil, garlic, extra-v...   \n",
       "\n",
       "   label has_spaghetti has_curry_powder  \n",
       "0      0         False            False  \n",
       "1      0         False            False  \n",
       "2      0         False            False  \n",
       "3      0         False            False  \n",
       "4      0         False            False  \n",
       "5      0         False            False  \n",
       "6      0         False            False  \n",
       "7      1         False            False  \n",
       "8      0         False            False  \n",
       "9      1         False            False  "
      ]
     },
     "execution_count": 14,
     "metadata": {},
     "output_type": "execute_result"
    }
   ],
   "source": [
    "df['has_spaghetti'] = df['ingredient_list'].str.contains(\"spaghetti\")\n",
    "df['has_curry_powder'] = df['ingredient_list'].str.contains(\"curry powder\")\n",
    "df.head(10)"
   ]
  },
  {
   "cell_type": "markdown",
   "metadata": {},
   "source": [
    "## Let's run our tests\n",
    "\n",
    "Let's feed our labels and our features to a machine that likes to learn and then see how well it learns!!!!\n",
    "\n",
    "### Looking at our labels\n",
    "\n",
    "We stored it in `label`, and if it's `0` it's not italian, if it's `1` it is Italian"
   ]
  },
  {
   "cell_type": "code",
   "execution_count": 17,
   "metadata": {
    "collapsed": false
   },
   "outputs": [
    {
     "data": {
      "text/plain": [
       "0    0\n",
       "1    0\n",
       "2    0\n",
       "3    0\n",
       "4    0\n",
       "Name: label, dtype: int64"
      ]
     },
     "execution_count": 17,
     "metadata": {},
     "output_type": "execute_result"
    }
   ],
   "source": [
    "df['label'].head()"
   ]
  },
  {
   "cell_type": "markdown",
   "metadata": {},
   "source": [
    "### Look at our features\n",
    "\n",
    "We have two features `has_spaghetti` and `has_curry_powder`."
   ]
  },
  {
   "cell_type": "code",
   "execution_count": 19,
   "metadata": {
    "collapsed": false
   },
   "outputs": [
    {
     "data": {
      "text/html": [
       "<div>\n",
       "<table border=\"1\" class=\"dataframe\">\n",
       "  <thead>\n",
       "    <tr style=\"text-align: right;\">\n",
       "      <th></th>\n",
       "      <th>has_spaghetti</th>\n",
       "      <th>has_curry_powder</th>\n",
       "    </tr>\n",
       "  </thead>\n",
       "  <tbody>\n",
       "    <tr>\n",
       "      <th>0</th>\n",
       "      <td>False</td>\n",
       "      <td>False</td>\n",
       "    </tr>\n",
       "    <tr>\n",
       "      <th>1</th>\n",
       "      <td>False</td>\n",
       "      <td>False</td>\n",
       "    </tr>\n",
       "    <tr>\n",
       "      <th>2</th>\n",
       "      <td>False</td>\n",
       "      <td>False</td>\n",
       "    </tr>\n",
       "    <tr>\n",
       "      <th>3</th>\n",
       "      <td>False</td>\n",
       "      <td>False</td>\n",
       "    </tr>\n",
       "    <tr>\n",
       "      <th>4</th>\n",
       "      <td>False</td>\n",
       "      <td>False</td>\n",
       "    </tr>\n",
       "  </tbody>\n",
       "</table>\n",
       "</div>"
      ],
      "text/plain": [
       "  has_spaghetti has_curry_powder\n",
       "0         False            False\n",
       "1         False            False\n",
       "2         False            False\n",
       "3         False            False\n",
       "4         False            False"
      ]
     },
     "execution_count": 19,
     "metadata": {},
     "output_type": "execute_result"
    }
   ],
   "source": [
    "df[['has_spaghetti', 'has_curry_powder']].head()"
   ]
  },
  {
   "cell_type": "markdown",
   "metadata": {},
   "source": [
    "### Now let's finally do this"
   ]
  },
  {
   "cell_type": "code",
   "execution_count": 22,
   "metadata": {
    "collapsed": false
   },
   "outputs": [],
   "source": [
    "# We need to split into training and testing data\n",
    "from sklearn.cross_validation import train_test_split"
   ]
  },
  {
   "cell_type": "code",
   "execution_count": 24,
   "metadata": {
    "collapsed": false
   },
   "outputs": [],
   "source": [
    "# Splitting into...\n",
    "# X = are all our features\n",
    "# y = are all our labels\n",
    "# X_train are our features to train on (80%)\n",
    "# y_train are our labels to train on (80%)\n",
    "# X_test are our features to test on (20%)\n",
    "# y_train are our labels to test on (20%)\n",
    "\n",
    "X_train, X_test, y_train, y_test = train_test_split(\n",
    "    df[['has_spaghetti', 'has_curry_powder']], # the first is our FEATURES\n",
    "    df['label'], # the second parameter is the LABEL (this is 0/1, not italian/italian)\n",
    "    test_size=0.2) # 80% training, 20% testing"
   ]
  },
  {
   "cell_type": "code",
   "execution_count": 25,
   "metadata": {
    "collapsed": false
   },
   "outputs": [
    {
     "data": {
      "text/html": [
       "<div>\n",
       "<table border=\"1\" class=\"dataframe\">\n",
       "  <thead>\n",
       "    <tr style=\"text-align: right;\">\n",
       "      <th></th>\n",
       "      <th>has_spaghetti</th>\n",
       "      <th>has_curry_powder</th>\n",
       "    </tr>\n",
       "  </thead>\n",
       "  <tbody>\n",
       "    <tr>\n",
       "      <th>1716</th>\n",
       "      <td>False</td>\n",
       "      <td>False</td>\n",
       "    </tr>\n",
       "    <tr>\n",
       "      <th>1398</th>\n",
       "      <td>False</td>\n",
       "      <td>False</td>\n",
       "    </tr>\n",
       "    <tr>\n",
       "      <th>694</th>\n",
       "      <td>False</td>\n",
       "      <td>False</td>\n",
       "    </tr>\n",
       "    <tr>\n",
       "      <th>25635</th>\n",
       "      <td>False</td>\n",
       "      <td>False</td>\n",
       "    </tr>\n",
       "    <tr>\n",
       "      <th>28908</th>\n",
       "      <td>False</td>\n",
       "      <td>False</td>\n",
       "    </tr>\n",
       "    <tr>\n",
       "      <th>5868</th>\n",
       "      <td>False</td>\n",
       "      <td>False</td>\n",
       "    </tr>\n",
       "    <tr>\n",
       "      <th>1647</th>\n",
       "      <td>False</td>\n",
       "      <td>False</td>\n",
       "    </tr>\n",
       "    <tr>\n",
       "      <th>39375</th>\n",
       "      <td>False</td>\n",
       "      <td>False</td>\n",
       "    </tr>\n",
       "    <tr>\n",
       "      <th>9715</th>\n",
       "      <td>False</td>\n",
       "      <td>False</td>\n",
       "    </tr>\n",
       "    <tr>\n",
       "      <th>16031</th>\n",
       "      <td>False</td>\n",
       "      <td>False</td>\n",
       "    </tr>\n",
       "    <tr>\n",
       "      <th>4741</th>\n",
       "      <td>False</td>\n",
       "      <td>False</td>\n",
       "    </tr>\n",
       "    <tr>\n",
       "      <th>9546</th>\n",
       "      <td>False</td>\n",
       "      <td>False</td>\n",
       "    </tr>\n",
       "    <tr>\n",
       "      <th>29255</th>\n",
       "      <td>False</td>\n",
       "      <td>False</td>\n",
       "    </tr>\n",
       "    <tr>\n",
       "      <th>30012</th>\n",
       "      <td>False</td>\n",
       "      <td>False</td>\n",
       "    </tr>\n",
       "    <tr>\n",
       "      <th>37503</th>\n",
       "      <td>False</td>\n",
       "      <td>False</td>\n",
       "    </tr>\n",
       "    <tr>\n",
       "      <th>22618</th>\n",
       "      <td>False</td>\n",
       "      <td>False</td>\n",
       "    </tr>\n",
       "    <tr>\n",
       "      <th>38776</th>\n",
       "      <td>False</td>\n",
       "      <td>False</td>\n",
       "    </tr>\n",
       "    <tr>\n",
       "      <th>25820</th>\n",
       "      <td>False</td>\n",
       "      <td>False</td>\n",
       "    </tr>\n",
       "    <tr>\n",
       "      <th>30947</th>\n",
       "      <td>False</td>\n",
       "      <td>False</td>\n",
       "    </tr>\n",
       "    <tr>\n",
       "      <th>4704</th>\n",
       "      <td>False</td>\n",
       "      <td>False</td>\n",
       "    </tr>\n",
       "    <tr>\n",
       "      <th>16223</th>\n",
       "      <td>False</td>\n",
       "      <td>False</td>\n",
       "    </tr>\n",
       "    <tr>\n",
       "      <th>14738</th>\n",
       "      <td>False</td>\n",
       "      <td>False</td>\n",
       "    </tr>\n",
       "    <tr>\n",
       "      <th>39105</th>\n",
       "      <td>False</td>\n",
       "      <td>False</td>\n",
       "    </tr>\n",
       "    <tr>\n",
       "      <th>5581</th>\n",
       "      <td>False</td>\n",
       "      <td>False</td>\n",
       "    </tr>\n",
       "    <tr>\n",
       "      <th>3912</th>\n",
       "      <td>False</td>\n",
       "      <td>False</td>\n",
       "    </tr>\n",
       "    <tr>\n",
       "      <th>35787</th>\n",
       "      <td>False</td>\n",
       "      <td>False</td>\n",
       "    </tr>\n",
       "    <tr>\n",
       "      <th>2845</th>\n",
       "      <td>False</td>\n",
       "      <td>False</td>\n",
       "    </tr>\n",
       "    <tr>\n",
       "      <th>1578</th>\n",
       "      <td>False</td>\n",
       "      <td>False</td>\n",
       "    </tr>\n",
       "    <tr>\n",
       "      <th>6022</th>\n",
       "      <td>False</td>\n",
       "      <td>False</td>\n",
       "    </tr>\n",
       "    <tr>\n",
       "      <th>7501</th>\n",
       "      <td>False</td>\n",
       "      <td>False</td>\n",
       "    </tr>\n",
       "    <tr>\n",
       "      <th>...</th>\n",
       "      <td>...</td>\n",
       "      <td>...</td>\n",
       "    </tr>\n",
       "    <tr>\n",
       "      <th>21601</th>\n",
       "      <td>False</td>\n",
       "      <td>False</td>\n",
       "    </tr>\n",
       "    <tr>\n",
       "      <th>29728</th>\n",
       "      <td>False</td>\n",
       "      <td>False</td>\n",
       "    </tr>\n",
       "    <tr>\n",
       "      <th>8051</th>\n",
       "      <td>False</td>\n",
       "      <td>False</td>\n",
       "    </tr>\n",
       "    <tr>\n",
       "      <th>38239</th>\n",
       "      <td>False</td>\n",
       "      <td>False</td>\n",
       "    </tr>\n",
       "    <tr>\n",
       "      <th>1891</th>\n",
       "      <td>False</td>\n",
       "      <td>False</td>\n",
       "    </tr>\n",
       "    <tr>\n",
       "      <th>23130</th>\n",
       "      <td>False</td>\n",
       "      <td>True</td>\n",
       "    </tr>\n",
       "    <tr>\n",
       "      <th>32821</th>\n",
       "      <td>False</td>\n",
       "      <td>False</td>\n",
       "    </tr>\n",
       "    <tr>\n",
       "      <th>37815</th>\n",
       "      <td>False</td>\n",
       "      <td>True</td>\n",
       "    </tr>\n",
       "    <tr>\n",
       "      <th>28458</th>\n",
       "      <td>False</td>\n",
       "      <td>False</td>\n",
       "    </tr>\n",
       "    <tr>\n",
       "      <th>17595</th>\n",
       "      <td>False</td>\n",
       "      <td>False</td>\n",
       "    </tr>\n",
       "    <tr>\n",
       "      <th>7045</th>\n",
       "      <td>False</td>\n",
       "      <td>False</td>\n",
       "    </tr>\n",
       "    <tr>\n",
       "      <th>13537</th>\n",
       "      <td>False</td>\n",
       "      <td>False</td>\n",
       "    </tr>\n",
       "    <tr>\n",
       "      <th>33358</th>\n",
       "      <td>False</td>\n",
       "      <td>False</td>\n",
       "    </tr>\n",
       "    <tr>\n",
       "      <th>12815</th>\n",
       "      <td>False</td>\n",
       "      <td>False</td>\n",
       "    </tr>\n",
       "    <tr>\n",
       "      <th>22961</th>\n",
       "      <td>False</td>\n",
       "      <td>False</td>\n",
       "    </tr>\n",
       "    <tr>\n",
       "      <th>15542</th>\n",
       "      <td>False</td>\n",
       "      <td>False</td>\n",
       "    </tr>\n",
       "    <tr>\n",
       "      <th>1632</th>\n",
       "      <td>False</td>\n",
       "      <td>False</td>\n",
       "    </tr>\n",
       "    <tr>\n",
       "      <th>9467</th>\n",
       "      <td>False</td>\n",
       "      <td>False</td>\n",
       "    </tr>\n",
       "    <tr>\n",
       "      <th>20866</th>\n",
       "      <td>False</td>\n",
       "      <td>False</td>\n",
       "    </tr>\n",
       "    <tr>\n",
       "      <th>32352</th>\n",
       "      <td>False</td>\n",
       "      <td>False</td>\n",
       "    </tr>\n",
       "    <tr>\n",
       "      <th>8947</th>\n",
       "      <td>False</td>\n",
       "      <td>False</td>\n",
       "    </tr>\n",
       "    <tr>\n",
       "      <th>22489</th>\n",
       "      <td>False</td>\n",
       "      <td>False</td>\n",
       "    </tr>\n",
       "    <tr>\n",
       "      <th>13645</th>\n",
       "      <td>False</td>\n",
       "      <td>False</td>\n",
       "    </tr>\n",
       "    <tr>\n",
       "      <th>28192</th>\n",
       "      <td>False</td>\n",
       "      <td>False</td>\n",
       "    </tr>\n",
       "    <tr>\n",
       "      <th>1583</th>\n",
       "      <td>False</td>\n",
       "      <td>False</td>\n",
       "    </tr>\n",
       "    <tr>\n",
       "      <th>15118</th>\n",
       "      <td>False</td>\n",
       "      <td>False</td>\n",
       "    </tr>\n",
       "    <tr>\n",
       "      <th>13324</th>\n",
       "      <td>False</td>\n",
       "      <td>False</td>\n",
       "    </tr>\n",
       "    <tr>\n",
       "      <th>21000</th>\n",
       "      <td>False</td>\n",
       "      <td>False</td>\n",
       "    </tr>\n",
       "    <tr>\n",
       "      <th>26231</th>\n",
       "      <td>False</td>\n",
       "      <td>False</td>\n",
       "    </tr>\n",
       "    <tr>\n",
       "      <th>11767</th>\n",
       "      <td>False</td>\n",
       "      <td>False</td>\n",
       "    </tr>\n",
       "  </tbody>\n",
       "</table>\n",
       "<p>31819 rows × 2 columns</p>\n",
       "</div>"
      ],
      "text/plain": [
       "      has_spaghetti has_curry_powder\n",
       "1716          False            False\n",
       "1398          False            False\n",
       "694           False            False\n",
       "25635         False            False\n",
       "28908         False            False\n",
       "5868          False            False\n",
       "1647          False            False\n",
       "39375         False            False\n",
       "9715          False            False\n",
       "16031         False            False\n",
       "4741          False            False\n",
       "9546          False            False\n",
       "29255         False            False\n",
       "30012         False            False\n",
       "37503         False            False\n",
       "22618         False            False\n",
       "38776         False            False\n",
       "25820         False            False\n",
       "30947         False            False\n",
       "4704          False            False\n",
       "16223         False            False\n",
       "14738         False            False\n",
       "39105         False            False\n",
       "5581          False            False\n",
       "3912          False            False\n",
       "35787         False            False\n",
       "2845          False            False\n",
       "1578          False            False\n",
       "6022          False            False\n",
       "7501          False            False\n",
       "...             ...              ...\n",
       "21601         False            False\n",
       "29728         False            False\n",
       "8051          False            False\n",
       "38239         False            False\n",
       "1891          False            False\n",
       "23130         False             True\n",
       "32821         False            False\n",
       "37815         False             True\n",
       "28458         False            False\n",
       "17595         False            False\n",
       "7045          False            False\n",
       "13537         False            False\n",
       "33358         False            False\n",
       "12815         False            False\n",
       "22961         False            False\n",
       "15542         False            False\n",
       "1632          False            False\n",
       "9467          False            False\n",
       "20866         False            False\n",
       "32352         False            False\n",
       "8947          False            False\n",
       "22489         False            False\n",
       "13645         False            False\n",
       "28192         False            False\n",
       "1583          False            False\n",
       "15118         False            False\n",
       "13324         False            False\n",
       "21000         False            False\n",
       "26231         False            False\n",
       "11767         False            False\n",
       "\n",
       "[31819 rows x 2 columns]"
      ]
     },
     "execution_count": 25,
     "metadata": {},
     "output_type": "execute_result"
    }
   ],
   "source": [
    "# Oh hey, it's just our features from the dataframe\n",
    "X_train"
   ]
  },
  {
   "cell_type": "code",
   "execution_count": 27,
   "metadata": {
    "collapsed": false
   },
   "outputs": [
    {
     "data": {
      "text/html": [
       "<div>\n",
       "<table border=\"1\" class=\"dataframe\">\n",
       "  <thead>\n",
       "    <tr style=\"text-align: right;\">\n",
       "      <th></th>\n",
       "      <th>has_spaghetti</th>\n",
       "      <th>has_curry_powder</th>\n",
       "    </tr>\n",
       "  </thead>\n",
       "  <tbody>\n",
       "    <tr>\n",
       "      <th>31497</th>\n",
       "      <td>False</td>\n",
       "      <td>False</td>\n",
       "    </tr>\n",
       "    <tr>\n",
       "      <th>29434</th>\n",
       "      <td>False</td>\n",
       "      <td>False</td>\n",
       "    </tr>\n",
       "    <tr>\n",
       "      <th>790</th>\n",
       "      <td>False</td>\n",
       "      <td>False</td>\n",
       "    </tr>\n",
       "    <tr>\n",
       "      <th>24917</th>\n",
       "      <td>False</td>\n",
       "      <td>False</td>\n",
       "    </tr>\n",
       "    <tr>\n",
       "      <th>24579</th>\n",
       "      <td>False</td>\n",
       "      <td>False</td>\n",
       "    </tr>\n",
       "    <tr>\n",
       "      <th>23738</th>\n",
       "      <td>False</td>\n",
       "      <td>False</td>\n",
       "    </tr>\n",
       "    <tr>\n",
       "      <th>1168</th>\n",
       "      <td>False</td>\n",
       "      <td>False</td>\n",
       "    </tr>\n",
       "    <tr>\n",
       "      <th>13222</th>\n",
       "      <td>False</td>\n",
       "      <td>False</td>\n",
       "    </tr>\n",
       "    <tr>\n",
       "      <th>1003</th>\n",
       "      <td>False</td>\n",
       "      <td>False</td>\n",
       "    </tr>\n",
       "    <tr>\n",
       "      <th>28201</th>\n",
       "      <td>False</td>\n",
       "      <td>False</td>\n",
       "    </tr>\n",
       "    <tr>\n",
       "      <th>7878</th>\n",
       "      <td>False</td>\n",
       "      <td>False</td>\n",
       "    </tr>\n",
       "    <tr>\n",
       "      <th>19582</th>\n",
       "      <td>False</td>\n",
       "      <td>False</td>\n",
       "    </tr>\n",
       "    <tr>\n",
       "      <th>2965</th>\n",
       "      <td>False</td>\n",
       "      <td>False</td>\n",
       "    </tr>\n",
       "    <tr>\n",
       "      <th>6538</th>\n",
       "      <td>False</td>\n",
       "      <td>False</td>\n",
       "    </tr>\n",
       "    <tr>\n",
       "      <th>4343</th>\n",
       "      <td>False</td>\n",
       "      <td>False</td>\n",
       "    </tr>\n",
       "    <tr>\n",
       "      <th>4584</th>\n",
       "      <td>False</td>\n",
       "      <td>False</td>\n",
       "    </tr>\n",
       "    <tr>\n",
       "      <th>17756</th>\n",
       "      <td>False</td>\n",
       "      <td>False</td>\n",
       "    </tr>\n",
       "    <tr>\n",
       "      <th>39448</th>\n",
       "      <td>False</td>\n",
       "      <td>False</td>\n",
       "    </tr>\n",
       "    <tr>\n",
       "      <th>28352</th>\n",
       "      <td>False</td>\n",
       "      <td>False</td>\n",
       "    </tr>\n",
       "    <tr>\n",
       "      <th>4392</th>\n",
       "      <td>False</td>\n",
       "      <td>False</td>\n",
       "    </tr>\n",
       "    <tr>\n",
       "      <th>23722</th>\n",
       "      <td>False</td>\n",
       "      <td>False</td>\n",
       "    </tr>\n",
       "    <tr>\n",
       "      <th>12505</th>\n",
       "      <td>False</td>\n",
       "      <td>False</td>\n",
       "    </tr>\n",
       "    <tr>\n",
       "      <th>4070</th>\n",
       "      <td>True</td>\n",
       "      <td>False</td>\n",
       "    </tr>\n",
       "    <tr>\n",
       "      <th>1529</th>\n",
       "      <td>False</td>\n",
       "      <td>False</td>\n",
       "    </tr>\n",
       "    <tr>\n",
       "      <th>36713</th>\n",
       "      <td>False</td>\n",
       "      <td>False</td>\n",
       "    </tr>\n",
       "    <tr>\n",
       "      <th>24313</th>\n",
       "      <td>False</td>\n",
       "      <td>False</td>\n",
       "    </tr>\n",
       "    <tr>\n",
       "      <th>34351</th>\n",
       "      <td>False</td>\n",
       "      <td>False</td>\n",
       "    </tr>\n",
       "    <tr>\n",
       "      <th>13619</th>\n",
       "      <td>False</td>\n",
       "      <td>False</td>\n",
       "    </tr>\n",
       "    <tr>\n",
       "      <th>39496</th>\n",
       "      <td>False</td>\n",
       "      <td>False</td>\n",
       "    </tr>\n",
       "    <tr>\n",
       "      <th>2259</th>\n",
       "      <td>False</td>\n",
       "      <td>False</td>\n",
       "    </tr>\n",
       "    <tr>\n",
       "      <th>...</th>\n",
       "      <td>...</td>\n",
       "      <td>...</td>\n",
       "    </tr>\n",
       "    <tr>\n",
       "      <th>28329</th>\n",
       "      <td>False</td>\n",
       "      <td>False</td>\n",
       "    </tr>\n",
       "    <tr>\n",
       "      <th>5539</th>\n",
       "      <td>False</td>\n",
       "      <td>False</td>\n",
       "    </tr>\n",
       "    <tr>\n",
       "      <th>32349</th>\n",
       "      <td>False</td>\n",
       "      <td>False</td>\n",
       "    </tr>\n",
       "    <tr>\n",
       "      <th>1131</th>\n",
       "      <td>False</td>\n",
       "      <td>False</td>\n",
       "    </tr>\n",
       "    <tr>\n",
       "      <th>13527</th>\n",
       "      <td>False</td>\n",
       "      <td>False</td>\n",
       "    </tr>\n",
       "    <tr>\n",
       "      <th>11274</th>\n",
       "      <td>False</td>\n",
       "      <td>False</td>\n",
       "    </tr>\n",
       "    <tr>\n",
       "      <th>38679</th>\n",
       "      <td>False</td>\n",
       "      <td>False</td>\n",
       "    </tr>\n",
       "    <tr>\n",
       "      <th>37542</th>\n",
       "      <td>False</td>\n",
       "      <td>False</td>\n",
       "    </tr>\n",
       "    <tr>\n",
       "      <th>1261</th>\n",
       "      <td>False</td>\n",
       "      <td>False</td>\n",
       "    </tr>\n",
       "    <tr>\n",
       "      <th>12625</th>\n",
       "      <td>False</td>\n",
       "      <td>False</td>\n",
       "    </tr>\n",
       "    <tr>\n",
       "      <th>13474</th>\n",
       "      <td>False</td>\n",
       "      <td>False</td>\n",
       "    </tr>\n",
       "    <tr>\n",
       "      <th>20878</th>\n",
       "      <td>False</td>\n",
       "      <td>False</td>\n",
       "    </tr>\n",
       "    <tr>\n",
       "      <th>36882</th>\n",
       "      <td>False</td>\n",
       "      <td>False</td>\n",
       "    </tr>\n",
       "    <tr>\n",
       "      <th>30358</th>\n",
       "      <td>False</td>\n",
       "      <td>False</td>\n",
       "    </tr>\n",
       "    <tr>\n",
       "      <th>39747</th>\n",
       "      <td>False</td>\n",
       "      <td>False</td>\n",
       "    </tr>\n",
       "    <tr>\n",
       "      <th>14861</th>\n",
       "      <td>False</td>\n",
       "      <td>False</td>\n",
       "    </tr>\n",
       "    <tr>\n",
       "      <th>103</th>\n",
       "      <td>False</td>\n",
       "      <td>False</td>\n",
       "    </tr>\n",
       "    <tr>\n",
       "      <th>14347</th>\n",
       "      <td>False</td>\n",
       "      <td>False</td>\n",
       "    </tr>\n",
       "    <tr>\n",
       "      <th>14931</th>\n",
       "      <td>False</td>\n",
       "      <td>False</td>\n",
       "    </tr>\n",
       "    <tr>\n",
       "      <th>13379</th>\n",
       "      <td>False</td>\n",
       "      <td>False</td>\n",
       "    </tr>\n",
       "    <tr>\n",
       "      <th>32412</th>\n",
       "      <td>True</td>\n",
       "      <td>False</td>\n",
       "    </tr>\n",
       "    <tr>\n",
       "      <th>8065</th>\n",
       "      <td>False</td>\n",
       "      <td>False</td>\n",
       "    </tr>\n",
       "    <tr>\n",
       "      <th>17861</th>\n",
       "      <td>False</td>\n",
       "      <td>False</td>\n",
       "    </tr>\n",
       "    <tr>\n",
       "      <th>5314</th>\n",
       "      <td>False</td>\n",
       "      <td>False</td>\n",
       "    </tr>\n",
       "    <tr>\n",
       "      <th>29594</th>\n",
       "      <td>False</td>\n",
       "      <td>False</td>\n",
       "    </tr>\n",
       "    <tr>\n",
       "      <th>35194</th>\n",
       "      <td>False</td>\n",
       "      <td>False</td>\n",
       "    </tr>\n",
       "    <tr>\n",
       "      <th>33707</th>\n",
       "      <td>False</td>\n",
       "      <td>False</td>\n",
       "    </tr>\n",
       "    <tr>\n",
       "      <th>24841</th>\n",
       "      <td>False</td>\n",
       "      <td>False</td>\n",
       "    </tr>\n",
       "    <tr>\n",
       "      <th>1304</th>\n",
       "      <td>False</td>\n",
       "      <td>False</td>\n",
       "    </tr>\n",
       "    <tr>\n",
       "      <th>13428</th>\n",
       "      <td>False</td>\n",
       "      <td>False</td>\n",
       "    </tr>\n",
       "  </tbody>\n",
       "</table>\n",
       "<p>7955 rows × 2 columns</p>\n",
       "</div>"
      ],
      "text/plain": [
       "      has_spaghetti has_curry_powder\n",
       "31497         False            False\n",
       "29434         False            False\n",
       "790           False            False\n",
       "24917         False            False\n",
       "24579         False            False\n",
       "23738         False            False\n",
       "1168          False            False\n",
       "13222         False            False\n",
       "1003          False            False\n",
       "28201         False            False\n",
       "7878          False            False\n",
       "19582         False            False\n",
       "2965          False            False\n",
       "6538          False            False\n",
       "4343          False            False\n",
       "4584          False            False\n",
       "17756         False            False\n",
       "39448         False            False\n",
       "28352         False            False\n",
       "4392          False            False\n",
       "23722         False            False\n",
       "12505         False            False\n",
       "4070           True            False\n",
       "1529          False            False\n",
       "36713         False            False\n",
       "24313         False            False\n",
       "34351         False            False\n",
       "13619         False            False\n",
       "39496         False            False\n",
       "2259          False            False\n",
       "...             ...              ...\n",
       "28329         False            False\n",
       "5539          False            False\n",
       "32349         False            False\n",
       "1131          False            False\n",
       "13527         False            False\n",
       "11274         False            False\n",
       "38679         False            False\n",
       "37542         False            False\n",
       "1261          False            False\n",
       "12625         False            False\n",
       "13474         False            False\n",
       "20878         False            False\n",
       "36882         False            False\n",
       "30358         False            False\n",
       "39747         False            False\n",
       "14861         False            False\n",
       "103           False            False\n",
       "14347         False            False\n",
       "14931         False            False\n",
       "13379         False            False\n",
       "32412          True            False\n",
       "8065          False            False\n",
       "17861         False            False\n",
       "5314          False            False\n",
       "29594         False            False\n",
       "35194         False            False\n",
       "33707         False            False\n",
       "24841         False            False\n",
       "1304          False            False\n",
       "13428         False            False\n",
       "\n",
       "[7955 rows x 2 columns]"
      ]
     },
     "execution_count": 27,
     "metadata": {},
     "output_type": "execute_result"
    }
   ],
   "source": [
    "# X is always the features, whether it's for training or for testing\n",
    "X_test"
   ]
  },
  {
   "cell_type": "code",
   "execution_count": 28,
   "metadata": {
    "collapsed": false
   },
   "outputs": [
    {
     "data": {
      "text/plain": [
       "31819"
      ]
     },
     "execution_count": 28,
     "metadata": {},
     "output_type": "execute_result"
    }
   ],
   "source": [
    "len(X_train)"
   ]
  },
  {
   "cell_type": "code",
   "execution_count": 29,
   "metadata": {
    "collapsed": false
   },
   "outputs": [
    {
     "data": {
      "text/plain": [
       "7955"
      ]
     },
     "execution_count": 29,
     "metadata": {},
     "output_type": "execute_result"
    }
   ],
   "source": [
    "len(X_test)"
   ]
  },
  {
   "cell_type": "code",
   "execution_count": 30,
   "metadata": {
    "collapsed": true
   },
   "outputs": [],
   "source": [
    "# We're testing on ~8000 and training on ~32000"
   ]
  },
  {
   "cell_type": "code",
   "execution_count": 31,
   "metadata": {
    "collapsed": false
   },
   "outputs": [
    {
     "data": {
      "text/plain": [
       "1716     1\n",
       "1398     1\n",
       "694      0\n",
       "25635    1\n",
       "28908    0\n",
       "5868     0\n",
       "1647     1\n",
       "39375    0\n",
       "9715     0\n",
       "16031    0\n",
       "4741     1\n",
       "9546     0\n",
       "29255    1\n",
       "30012    1\n",
       "37503    1\n",
       "22618    0\n",
       "38776    0\n",
       "25820    1\n",
       "30947    0\n",
       "4704     0\n",
       "16223    0\n",
       "14738    0\n",
       "39105    0\n",
       "5581     0\n",
       "3912     0\n",
       "35787    0\n",
       "2845     0\n",
       "1578     0\n",
       "6022     0\n",
       "7501     0\n",
       "        ..\n",
       "21601    0\n",
       "29728    1\n",
       "8051     1\n",
       "38239    0\n",
       "1891     0\n",
       "23130    0\n",
       "32821    0\n",
       "37815    0\n",
       "28458    0\n",
       "17595    0\n",
       "7045     0\n",
       "13537    0\n",
       "33358    0\n",
       "12815    0\n",
       "22961    1\n",
       "15542    0\n",
       "1632     0\n",
       "9467     0\n",
       "20866    1\n",
       "32352    0\n",
       "8947     0\n",
       "22489    0\n",
       "13645    0\n",
       "28192    1\n",
       "1583     0\n",
       "15118    0\n",
       "13324    0\n",
       "21000    0\n",
       "26231    0\n",
       "11767    0\n",
       "Name: label, dtype: int64"
      ]
     },
     "execution_count": 31,
     "metadata": {},
     "output_type": "execute_result"
    }
   ],
   "source": [
    "# y_train is our labels that we are training one\n",
    "y_train"
   ]
  },
  {
   "cell_type": "code",
   "execution_count": 32,
   "metadata": {
    "collapsed": false
   },
   "outputs": [
    {
     "data": {
      "text/plain": [
       "31497    0\n",
       "29434    0\n",
       "790      1\n",
       "24917    0\n",
       "24579    0\n",
       "23738    0\n",
       "1168     0\n",
       "13222    0\n",
       "1003     0\n",
       "28201    0\n",
       "7878     0\n",
       "19582    0\n",
       "2965     1\n",
       "6538     0\n",
       "4343     0\n",
       "4584     0\n",
       "17756    1\n",
       "39448    0\n",
       "28352    0\n",
       "4392     0\n",
       "23722    0\n",
       "12505    1\n",
       "4070     1\n",
       "1529     1\n",
       "36713    0\n",
       "24313    0\n",
       "34351    0\n",
       "13619    0\n",
       "39496    0\n",
       "2259     0\n",
       "        ..\n",
       "28329    0\n",
       "5539     0\n",
       "32349    0\n",
       "1131     1\n",
       "13527    1\n",
       "11274    0\n",
       "38679    0\n",
       "37542    0\n",
       "1261     0\n",
       "12625    1\n",
       "13474    0\n",
       "20878    1\n",
       "36882    0\n",
       "30358    1\n",
       "39747    0\n",
       "14861    1\n",
       "103      0\n",
       "14347    0\n",
       "14931    0\n",
       "13379    0\n",
       "32412    1\n",
       "8065     0\n",
       "17861    0\n",
       "5314     1\n",
       "29594    0\n",
       "35194    0\n",
       "33707    1\n",
       "24841    1\n",
       "1304     1\n",
       "13428    1\n",
       "Name: label, dtype: int64"
      ]
     },
     "execution_count": 32,
     "metadata": {},
     "output_type": "execute_result"
    }
   ],
   "source": [
    "# And y_test is the labels we're testing on\n",
    "y_test"
   ]
  },
  {
   "cell_type": "code",
   "execution_count": 37,
   "metadata": {
    "collapsed": false
   },
   "outputs": [
    {
     "name": "stdout",
     "output_type": "stream",
     "text": [
      "Length of training labels: 31819\n",
      "Length of testing labels: 7955\n",
      "Length of training features: 31819\n",
      "Length of testing features: 7955\n"
     ]
    }
   ],
   "source": [
    "print(\"Length of training labels:\", len(y_train))\n",
    "print(\"Length of testing labels:\", len(y_test))\n",
    "print(\"Length of training features:\", len(X_train))\n",
    "print(\"Length of testing features:\", len(X_test))"
   ]
  },
  {
   "cell_type": "markdown",
   "metadata": {},
   "source": [
    "Basically all that happened was `train_test_split` took us from having a nice dataframe where everything was together and split it into two groups of two - separated our labels vs. our features, and our training data vs our testing data."
   ]
  },
  {
   "cell_type": "markdown",
   "metadata": {},
   "source": [
    "# Back to actually doing our fitting etc"
   ]
  },
  {
   "cell_type": "code",
   "execution_count": 39,
   "metadata": {
    "collapsed": true
   },
   "outputs": [],
   "source": [
    "# Splitting into...\n",
    "# X = are all our features\n",
    "# y = are all our labels\n",
    "# X_train are our features to train on (80%)\n",
    "# y_train are our labels to train on (80%)\n",
    "# X_test are our features to test on (20%)\n",
    "# y_train are our labels to test on (20%)\n",
    "\n",
    "X_train, X_test, y_train, y_test = train_test_split(\n",
    "    df[['has_spaghetti', 'has_curry_powder']], # the first is our FEATURES\n",
    "    df['label'], # the second parameter is the LABEL (this is 0/1, not italian/italian)\n",
    "    test_size=0.2) # 80% training, 20% testing"
   ]
  },
  {
   "cell_type": "code",
   "execution_count": 41,
   "metadata": {
    "collapsed": false
   },
   "outputs": [
    {
     "data": {
      "text/plain": [
       "BernoulliNB(alpha=1.0, binarize=0.0, class_prior=None, fit_prior=True)"
      ]
     },
     "execution_count": 41,
     "metadata": {},
     "output_type": "execute_result"
    }
   ],
   "source": [
    "# Import naive_bayes to get access to ALL kinds of naive bayes classifiers\n",
    "# But REMEMBER we're using Bernoulli because it's for true/false which is fine\n",
    "# for small passages\n",
    "from sklearn import naive_bayes\n",
    "\n",
    "# Create a Bernoulli Naive Bayes classifier\n",
    "clf = naive_bayes.BernoulliNB()\n",
    "\n",
    "# Feed the classifier two things:\n",
    "#   * our training features (X_train)\n",
    "#   * our training labels (y_train)\n",
    "# To help it study for the exam later when we test it\n",
    "clf.fit(X_train, y_train)"
   ]
  },
  {
   "cell_type": "code",
   "execution_count": 43,
   "metadata": {
    "collapsed": false
   },
   "outputs": [
    {
     "data": {
      "text/plain": [
       "array([0, 0, 0, ..., 0, 0, 0])"
      ]
     },
     "execution_count": 43,
     "metadata": {},
     "output_type": "execute_result"
    }
   ],
   "source": [
    "# This looks ugly but in theory it's what every recipe is\n",
    "# All those zeroes = not italian\n",
    "# We know the first three aren't italian and the last three aren't italian\n",
    "clf.predict(X_test)"
   ]
  },
  {
   "cell_type": "code",
   "execution_count": 44,
   "metadata": {
    "collapsed": false
   },
   "outputs": [
    {
     "data": {
      "text/plain": [
       "0.81149627581005057"
      ]
     },
     "execution_count": 44,
     "metadata": {},
     "output_type": "execute_result"
    }
   ],
   "source": [
    "# Naive Bayes can't overfit, really\n",
    "# It can't \"study too hard\" it can't \"memorize the questions\"\n",
    "# (a decision tree can)\n",
    "# So if we give it the training data back it will get some wrong\n",
    "clf.score(X_train, y_train)"
   ]
  },
  {
   "cell_type": "code",
   "execution_count": 45,
   "metadata": {
    "collapsed": false
   },
   "outputs": [
    {
     "data": {
      "text/plain": [
       "0.80641106222501568"
      ]
     },
     "execution_count": 45,
     "metadata": {},
     "output_type": "execute_result"
    }
   ],
   "source": [
    "clf.score(X_test, y_test)"
   ]
  },
  {
   "cell_type": "code",
   "execution_count": 46,
   "metadata": {
    "collapsed": false
   },
   "outputs": [
    {
     "data": {
      "text/plain": [
       "italian         7838\n",
       "mexican         6438\n",
       "southern_us     4320\n",
       "indian          3003\n",
       "chinese         2673\n",
       "french          2646\n",
       "cajun_creole    1546\n",
       "thai            1539\n",
       "japanese        1423\n",
       "greek           1175\n",
       "spanish          989\n",
       "korean           830\n",
       "vietnamese       825\n",
       "moroccan         821\n",
       "british          804\n",
       "filipino         755\n",
       "irish            667\n",
       "jamaican         526\n",
       "russian          489\n",
       "brazilian        467\n",
       "Name: cuisine, dtype: int64"
      ]
     },
     "execution_count": 46,
     "metadata": {},
     "output_type": "execute_result"
    }
   ],
   "source": [
    "df['cuisine'].value_counts()"
   ]
  },
  {
   "cell_type": "code",
   "execution_count": 47,
   "metadata": {
    "collapsed": false
   },
   "outputs": [
    {
     "data": {
      "text/html": [
       "<div>\n",
       "<table border=\"1\" class=\"dataframe\">\n",
       "  <thead>\n",
       "    <tr style=\"text-align: right;\">\n",
       "      <th></th>\n",
       "      <th>cuisine</th>\n",
       "      <th>id</th>\n",
       "      <th>ingredient_list</th>\n",
       "      <th>label</th>\n",
       "      <th>has_spaghetti</th>\n",
       "      <th>has_curry_powder</th>\n",
       "    </tr>\n",
       "  </thead>\n",
       "  <tbody>\n",
       "    <tr>\n",
       "      <th>0</th>\n",
       "      <td>greek</td>\n",
       "      <td>10259</td>\n",
       "      <td>romaine lettuce, black olives, grape tomatoes,...</td>\n",
       "      <td>0</td>\n",
       "      <td>False</td>\n",
       "      <td>False</td>\n",
       "    </tr>\n",
       "    <tr>\n",
       "      <th>1</th>\n",
       "      <td>southern_us</td>\n",
       "      <td>25693</td>\n",
       "      <td>plain flour, ground pepper, salt, tomatoes, gr...</td>\n",
       "      <td>0</td>\n",
       "      <td>False</td>\n",
       "      <td>False</td>\n",
       "    </tr>\n",
       "    <tr>\n",
       "      <th>2</th>\n",
       "      <td>filipino</td>\n",
       "      <td>20130</td>\n",
       "      <td>eggs, pepper, salt, mayonaise, cooking oil, gr...</td>\n",
       "      <td>0</td>\n",
       "      <td>False</td>\n",
       "      <td>False</td>\n",
       "    </tr>\n",
       "    <tr>\n",
       "      <th>3</th>\n",
       "      <td>indian</td>\n",
       "      <td>22213</td>\n",
       "      <td>water, vegetable oil, wheat, salt</td>\n",
       "      <td>0</td>\n",
       "      <td>False</td>\n",
       "      <td>False</td>\n",
       "    </tr>\n",
       "    <tr>\n",
       "      <th>4</th>\n",
       "      <td>indian</td>\n",
       "      <td>13162</td>\n",
       "      <td>black pepper, shallots, cornflour, cayenne pep...</td>\n",
       "      <td>0</td>\n",
       "      <td>False</td>\n",
       "      <td>False</td>\n",
       "    </tr>\n",
       "  </tbody>\n",
       "</table>\n",
       "</div>"
      ],
      "text/plain": [
       "       cuisine     id                                    ingredient_list  \\\n",
       "0        greek  10259  romaine lettuce, black olives, grape tomatoes,...   \n",
       "1  southern_us  25693  plain flour, ground pepper, salt, tomatoes, gr...   \n",
       "2     filipino  20130  eggs, pepper, salt, mayonaise, cooking oil, gr...   \n",
       "3       indian  22213                  water, vegetable oil, wheat, salt   \n",
       "4       indian  13162  black pepper, shallots, cornflour, cayenne pep...   \n",
       "\n",
       "   label has_spaghetti has_curry_powder  \n",
       "0      0         False            False  \n",
       "1      0         False            False  \n",
       "2      0         False            False  \n",
       "3      0         False            False  \n",
       "4      0         False            False  "
      ]
     },
     "execution_count": 47,
     "metadata": {},
     "output_type": "execute_result"
    }
   ],
   "source": [
    "df.head()"
   ]
  },
  {
   "cell_type": "markdown",
   "metadata": {},
   "source": [
    "# Wow, we did a really great job! Let's try another cuisine"
   ]
  },
  {
   "cell_type": "markdown",
   "metadata": {},
   "source": [
    "## Step 1: Preparing our data\n",
    "\n",
    "### Creating labels that scikit-learn can use\n",
    "\n",
    "Our cuisine is , so we'll do `0` and `1` as to whether it's that cuisine or not "
   ]
  },
  {
   "cell_type": "code",
   "execution_count": 57,
   "metadata": {
    "collapsed": true
   },
   "outputs": [],
   "source": [
    "def make_label(cuisine):\n",
    "    if cuisine == \"brazilian\":\n",
    "        return 1\n",
    "    else:\n",
    "        return 0\n",
    "\n",
    "df['is_brazilian'] = df['cuisine'].apply(make_label)"
   ]
  },
  {
   "cell_type": "code",
   "execution_count": 58,
   "metadata": {
    "collapsed": false
   },
   "outputs": [
    {
     "data": {
      "text/html": [
       "<div>\n",
       "<table border=\"1\" class=\"dataframe\">\n",
       "  <thead>\n",
       "    <tr style=\"text-align: right;\">\n",
       "      <th></th>\n",
       "      <th>cuisine</th>\n",
       "      <th>id</th>\n",
       "      <th>ingredient_list</th>\n",
       "      <th>label</th>\n",
       "      <th>has_spaghetti</th>\n",
       "      <th>has_curry_powder</th>\n",
       "      <th>is_brazilian</th>\n",
       "    </tr>\n",
       "  </thead>\n",
       "  <tbody>\n",
       "    <tr>\n",
       "      <th>0</th>\n",
       "      <td>greek</td>\n",
       "      <td>10259</td>\n",
       "      <td>romaine lettuce, black olives, grape tomatoes,...</td>\n",
       "      <td>0</td>\n",
       "      <td>False</td>\n",
       "      <td>False</td>\n",
       "      <td>0</td>\n",
       "    </tr>\n",
       "    <tr>\n",
       "      <th>1</th>\n",
       "      <td>southern_us</td>\n",
       "      <td>25693</td>\n",
       "      <td>plain flour, ground pepper, salt, tomatoes, gr...</td>\n",
       "      <td>0</td>\n",
       "      <td>False</td>\n",
       "      <td>False</td>\n",
       "      <td>0</td>\n",
       "    </tr>\n",
       "  </tbody>\n",
       "</table>\n",
       "</div>"
      ],
      "text/plain": [
       "       cuisine     id                                    ingredient_list  \\\n",
       "0        greek  10259  romaine lettuce, black olives, grape tomatoes,...   \n",
       "1  southern_us  25693  plain flour, ground pepper, salt, tomatoes, gr...   \n",
       "\n",
       "   label has_spaghetti has_curry_powder  is_brazilian  \n",
       "0      0         False            False             0  \n",
       "1      0         False            False             0  "
      ]
     },
     "execution_count": 58,
     "metadata": {},
     "output_type": "execute_result"
    }
   ],
   "source": [
    "df.head(2)"
   ]
  },
  {
   "cell_type": "markdown",
   "metadata": {},
   "source": [
    "### Creating features that scikit-learn can use\n",
    "\n",
    "It's Bernoulli Naive Bayes, so it's `True` and `False`"
   ]
  },
  {
   "cell_type": "code",
   "execution_count": 63,
   "metadata": {
    "collapsed": true
   },
   "outputs": [],
   "source": [
    "df['has_water'] = df['ingredient_list'].str.contains('water')\n",
    "df['has_salt'] = df['ingredient_list'].str.contains('salt')"
   ]
  },
  {
   "cell_type": "code",
   "execution_count": 64,
   "metadata": {
    "collapsed": false
   },
   "outputs": [
    {
     "data": {
      "text/html": [
       "<div>\n",
       "<table border=\"1\" class=\"dataframe\">\n",
       "  <thead>\n",
       "    <tr style=\"text-align: right;\">\n",
       "      <th></th>\n",
       "      <th>cuisine</th>\n",
       "      <th>id</th>\n",
       "      <th>ingredient_list</th>\n",
       "      <th>label</th>\n",
       "      <th>has_spaghetti</th>\n",
       "      <th>has_curry_powder</th>\n",
       "      <th>is_brazilian</th>\n",
       "      <th>has_water</th>\n",
       "      <th>has_salt</th>\n",
       "    </tr>\n",
       "  </thead>\n",
       "  <tbody>\n",
       "    <tr>\n",
       "      <th>0</th>\n",
       "      <td>greek</td>\n",
       "      <td>10259</td>\n",
       "      <td>romaine lettuce, black olives, grape tomatoes,...</td>\n",
       "      <td>0</td>\n",
       "      <td>False</td>\n",
       "      <td>False</td>\n",
       "      <td>0</td>\n",
       "      <td>False</td>\n",
       "      <td>False</td>\n",
       "    </tr>\n",
       "    <tr>\n",
       "      <th>1</th>\n",
       "      <td>southern_us</td>\n",
       "      <td>25693</td>\n",
       "      <td>plain flour, ground pepper, salt, tomatoes, gr...</td>\n",
       "      <td>0</td>\n",
       "      <td>False</td>\n",
       "      <td>False</td>\n",
       "      <td>0</td>\n",
       "      <td>False</td>\n",
       "      <td>True</td>\n",
       "    </tr>\n",
       "  </tbody>\n",
       "</table>\n",
       "</div>"
      ],
      "text/plain": [
       "       cuisine     id                                    ingredient_list  \\\n",
       "0        greek  10259  romaine lettuce, black olives, grape tomatoes,...   \n",
       "1  southern_us  25693  plain flour, ground pepper, salt, tomatoes, gr...   \n",
       "\n",
       "   label has_spaghetti has_curry_powder  is_brazilian has_water has_salt  \n",
       "0      0         False            False             0     False    False  \n",
       "1      0         False            False             0     False     True  "
      ]
     },
     "execution_count": 64,
     "metadata": {},
     "output_type": "execute_result"
    }
   ],
   "source": [
    "df.head(2)"
   ]
  },
  {
   "cell_type": "markdown",
   "metadata": {},
   "source": [
    "## Step 2: Create the test/train split"
   ]
  },
  {
   "cell_type": "code",
   "execution_count": 65,
   "metadata": {
    "collapsed": true
   },
   "outputs": [],
   "source": [
    "from sklearn.cross_validation import train_test_split\n",
    "\n",
    "X_train, X_test, y_train, y_test = train_test_split(\n",
    "    df[['has_water', 'has_salt']], # the first is our FEATURES\n",
    "    df['is_brazilian'], # the second parameter is the LABEL (this is 0/1, not italian/italian)\n",
    "    test_size=0.2) # 80% training, 20% testing"
   ]
  },
  {
   "cell_type": "markdown",
   "metadata": {},
   "source": [
    "## Step 3: Create classifier, train and test"
   ]
  },
  {
   "cell_type": "code",
   "execution_count": 66,
   "metadata": {
    "collapsed": false
   },
   "outputs": [
    {
     "data": {
      "text/plain": [
       "BernoulliNB(alpha=1.0, binarize=0.0, class_prior=None, fit_prior=True)"
      ]
     },
     "execution_count": 66,
     "metadata": {},
     "output_type": "execute_result"
    }
   ],
   "source": [
    "from sklearn import naive_bayes\n",
    "\n",
    "# Create a Bernoulli Naive Bayes classifier\n",
    "clf = naive_bayes.BernoulliNB()\n",
    "\n",
    "# Fit with our training data\n",
    "clf.fit(X_train, y_train)"
   ]
  },
  {
   "cell_type": "code",
   "execution_count": 67,
   "metadata": {
    "collapsed": false
   },
   "outputs": [
    {
     "data": {
      "text/plain": [
       "0.98812030547785912"
      ]
     },
     "execution_count": 67,
     "metadata": {},
     "output_type": "execute_result"
    }
   ],
   "source": [
    "clf.score(X_train, y_train)"
   ]
  },
  {
   "cell_type": "code",
   "execution_count": 68,
   "metadata": {
    "collapsed": false
   },
   "outputs": [
    {
     "data": {
      "text/plain": [
       "0.98881206788183529"
      ]
     },
     "execution_count": 68,
     "metadata": {},
     "output_type": "execute_result"
    }
   ],
   "source": [
    "clf.score(X_test, y_test)"
   ]
  },
  {
   "cell_type": "markdown",
   "metadata": {},
   "source": [
    "# We just got destroyed by math: let's actually understand Naive Bayes\n",
    "\n",
    "Naive Bayes gives you back a probability for each possible label - so, % chance that it's brazilian vs. the % chance that it is not brazilian. We'll use this to see what went wrong.\n",
    "\n",
    "**Math stuff**\n",
    "\n",
    "Naive Bayes is all about calculating the probability of \"B given A\", a.k.a., the chance of B being true if A is true.\n",
    "\n",
    "* **Bayes` Theorem:** `P(B|A) = P(A and B)/P(A)`\n",
    "\n",
    "* `P(A)` means \"what is the probability of A being true?\"\n",
    "* `P(B|A)` means \"if A is true, what is the probability of B being true?\"\n",
    "* `P(A and B)` means \"what is the probability of both A and B being true?\""
   ]
  },
  {
   "cell_type": "code",
   "execution_count": null,
   "metadata": {
    "collapsed": true
   },
   "outputs": [],
   "source": []
  },
  {
   "cell_type": "markdown",
   "metadata": {},
   "source": [
    "## Example: We have a recipe and it has water in it. Is it brazilian?\n",
    "\n",
    "**Hypothesis one: the recipe is brazilian**\n",
    "\n",
    "* `P(B|A)` would be \"if it contains water, what is the chance that it is brazilian cuisine?\"\n",
    "* `P(A and B)` would be \"what is the chance that it contains both water and is brazilian?\"\n",
    "* `P(A)` would be \"what is the chance that this contains water?\""
   ]
  },
  {
   "cell_type": "code",
   "execution_count": null,
   "metadata": {
    "collapsed": true
   },
   "outputs": [],
   "source": [
    "# P(B|A) = P(A and B)/P(A)"
   ]
  },
  {
   "cell_type": "code",
   "execution_count": 72,
   "metadata": {
    "collapsed": false
   },
   "outputs": [
    {
     "data": {
      "text/plain": [
       "109"
      ]
     },
     "execution_count": 72,
     "metadata": {},
     "output_type": "execute_result"
    }
   ],
   "source": [
    "# P(A and B)\n",
    "# Probability that a recipe has water and is brazilian\n",
    "\n",
    "# How many recipes have water AND are brazilian?\n",
    "len(df[(df['has_water']) & (df['cuisine'] == 'brazilian')])"
   ]
  },
  {
   "cell_type": "code",
   "execution_count": 73,
   "metadata": {
    "collapsed": false
   },
   "outputs": [
    {
     "data": {
      "text/plain": [
       "39774"
      ]
     },
     "execution_count": 73,
     "metadata": {},
     "output_type": "execute_result"
    }
   ],
   "source": [
    "# P(A)\n",
    "len(df['has_water'])"
   ]
  },
  {
   "cell_type": "code",
   "execution_count": 74,
   "metadata": {
    "collapsed": false
   },
   "outputs": [
    {
     "data": {
      "text/plain": [
       "0.0027404837330919697"
      ]
     },
     "execution_count": 74,
     "metadata": {},
     "output_type": "execute_result"
    }
   ],
   "source": [
    "# P(B|A)\n",
    "# The chance that a recipe is brazilian if it has water in it\n",
    "109/39774"
   ]
  },
  {
   "cell_type": "markdown",
   "metadata": {},
   "source": [
    "**Hypothesis two: the recipe is NOT brazilian**\n",
    "\n",
    "* `P(B|A)` would be \"if it contains water, what is the chance that it is NOT brazilian cuisine?\"\n",
    "* `P(A and B)` would be \"what is the chance that it contains both water and is NOT brazilian?\"\n",
    "* `P(A)` would be \"what is the chance that this contains water?\""
   ]
  },
  {
   "cell_type": "code",
   "execution_count": 75,
   "metadata": {
    "collapsed": false
   },
   "outputs": [
    {
     "data": {
      "text/plain": [
       "9385"
      ]
     },
     "execution_count": 75,
     "metadata": {},
     "output_type": "execute_result"
    }
   ],
   "source": [
    "# P(A and B)\n",
    "# Probability that a recipe has water and is NOT brazilian\n",
    "\n",
    "# How many recipes have water AND are NOT brazilian?\n",
    "len(df[(df['has_water']) & (df['cuisine'] != 'brazilian')])"
   ]
  },
  {
   "cell_type": "code",
   "execution_count": 76,
   "metadata": {
    "collapsed": false
   },
   "outputs": [
    {
     "data": {
      "text/plain": [
       "39774"
      ]
     },
     "execution_count": 76,
     "metadata": {},
     "output_type": "execute_result"
    }
   ],
   "source": [
    "# P(A)\n",
    "# How many recipes have water?\n",
    "len(df['has_water'])"
   ]
  },
  {
   "cell_type": "code",
   "execution_count": 77,
   "metadata": {
    "collapsed": false
   },
   "outputs": [
    {
     "data": {
      "text/plain": [
       "0.2359581636244783"
      ]
     },
     "execution_count": 77,
     "metadata": {},
     "output_type": "execute_result"
    }
   ],
   "source": [
    "# P(B|A)\n",
    "# The chance that a recipe is NOT brazilian if it has water in it\n",
    "9385/39774"
   ]
  },
  {
   "cell_type": "markdown",
   "metadata": {},
   "source": [
    "## What this boils down to\n",
    "\n",
    "No matter what, pretty much no recipe is ever brazilian. Does it have water in it? Does it not have water in it? Doesn't really matter, it's probably not brazilian.\n"
   ]
  },
  {
   "cell_type": "code",
   "execution_count": 79,
   "metadata": {
    "collapsed": false
   },
   "outputs": [
    {
     "data": {
      "text/plain": [
       "467"
      ]
     },
     "execution_count": 79,
     "metadata": {},
     "output_type": "execute_result"
    }
   ],
   "source": [
    "len(df[df['cuisine'] == 'brazilian'])"
   ]
  },
  {
   "cell_type": "code",
   "execution_count": 80,
   "metadata": {
    "collapsed": false
   },
   "outputs": [
    {
     "data": {
      "text/plain": [
       "39774"
      ]
     },
     "execution_count": 80,
     "metadata": {},
     "output_type": "execute_result"
    }
   ],
   "source": [
    "len(df)"
   ]
  },
  {
   "cell_type": "code",
   "execution_count": null,
   "metadata": {
    "collapsed": false
   },
   "outputs": [],
   "source": []
  },
  {
   "cell_type": "code",
   "execution_count": 83,
   "metadata": {
    "collapsed": false
   },
   "outputs": [
    {
     "data": {
      "text/plain": [
       "0.011741338562880274"
      ]
     },
     "execution_count": 83,
     "metadata": {},
     "output_type": "execute_result"
    }
   ],
   "source": [
    "# Only a little bit over 1% of our recipes are brazilian\n",
    "# so even though it ALWAYS say it \"not brazilian\", it's usually right\n",
    "467/39774"
   ]
  },
  {
   "cell_type": "code",
   "execution_count": 84,
   "metadata": {
    "collapsed": false
   },
   "outputs": [
    {
     "data": {
      "text/plain": [
       "0.9882586614371197"
      ]
     },
     "execution_count": 84,
     "metadata": {},
     "output_type": "execute_result"
    }
   ],
   "source": [
    "1 - 467/39774"
   ]
  },
  {
   "cell_type": "markdown",
   "metadata": {},
   "source": [
    "# Let's fix up our labels\n",
    "\n",
    "Before we had this:\n",
    "\n",
    "    def make_label(cuisine):\n",
    "        if cuisine == \"brazilian\":\n",
    "            return 1\n",
    "        else:\n",
    "            return 0\n",
    "\n",
    "which does not scale well. If we wanted to add in more different cuisines, we'd need to keep adding in else ifs again and again and again until our fingers fell off. And we'd probably misspell something. And if we're anything, it's LAZY.\n",
    "\n",
    "## LabelEncoder to the rescue: Converts categories into numeric labels"
   ]
  },
  {
   "cell_type": "code",
   "execution_count": 85,
   "metadata": {
    "collapsed": true
   },
   "outputs": [],
   "source": [
    "from sklearn import preprocessing\n",
    "\n",
    "le = preprocessing.LabelEncoder()"
   ]
  },
  {
   "cell_type": "code",
   "execution_count": 86,
   "metadata": {
    "collapsed": true
   },
   "outputs": [],
   "source": [
    "# LabelEncoder has two parts: FIT and TRANSFORM\n",
    "# FIT learns all of the possible labels\n",
    "# TRANSFORM takes a list of categories and converts them into numbers"
   ]
  },
  {
   "cell_type": "code",
   "execution_count": 91,
   "metadata": {
    "collapsed": false
   },
   "outputs": [
    {
     "data": {
      "text/plain": [
       "LabelEncoder()"
      ]
     },
     "execution_count": 91,
     "metadata": {},
     "output_type": "execute_result"
    }
   ],
   "source": [
    "# Teach the label encoder all of the possible labels\n",
    "# It doesn't care about duplicates \n",
    "le.fit(['orange', 'red', 'red', 'red', 'yellow', 'blue'])"
   ]
  },
  {
   "cell_type": "code",
   "execution_count": 92,
   "metadata": {
    "collapsed": false
   },
   "outputs": [
    {
     "data": {
      "text/plain": [
       "array([1, 0, 3])"
      ]
     },
     "execution_count": 92,
     "metadata": {},
     "output_type": "execute_result"
    }
   ],
   "source": [
    "# Get the labels out as numbers\n",
    "le.transform(['orange', 'blue', 'yellow'])"
   ]
  },
  {
   "cell_type": "code",
   "execution_count": 94,
   "metadata": {
    "collapsed": false
   },
   "outputs": [
    {
     "data": {
      "text/plain": [
       "LabelEncoder()"
      ]
     },
     "execution_count": 94,
     "metadata": {},
     "output_type": "execute_result"
    }
   ],
   "source": [
    "# Send the label encoder each and every cuisine\n",
    "le.fit(df['cuisine'])"
   ]
  },
  {
   "cell_type": "code",
   "execution_count": 95,
   "metadata": {
    "collapsed": false
   },
   "outputs": [
    {
     "data": {
      "text/plain": [
       "array([ 6, 16,  4, ...,  8,  3, 13])"
      ]
     },
     "execution_count": 95,
     "metadata": {},
     "output_type": "execute_result"
    }
   ],
   "source": [
    "le.transform(df['cuisine'])"
   ]
  },
  {
   "cell_type": "code",
   "execution_count": 97,
   "metadata": {
    "collapsed": false
   },
   "outputs": [
    {
     "data": {
      "text/html": [
       "<div>\n",
       "<table border=\"1\" class=\"dataframe\">\n",
       "  <thead>\n",
       "    <tr style=\"text-align: right;\">\n",
       "      <th></th>\n",
       "      <th>cuisine</th>\n",
       "      <th>id</th>\n",
       "      <th>ingredient_list</th>\n",
       "      <th>label</th>\n",
       "      <th>has_spaghetti</th>\n",
       "      <th>has_curry_powder</th>\n",
       "      <th>is_brazilian</th>\n",
       "      <th>has_water</th>\n",
       "      <th>has_salt</th>\n",
       "      <th>cuisine_label</th>\n",
       "    </tr>\n",
       "  </thead>\n",
       "  <tbody>\n",
       "    <tr>\n",
       "      <th>0</th>\n",
       "      <td>greek</td>\n",
       "      <td>10259</td>\n",
       "      <td>romaine lettuce, black olives, grape tomatoes,...</td>\n",
       "      <td>0</td>\n",
       "      <td>False</td>\n",
       "      <td>False</td>\n",
       "      <td>0</td>\n",
       "      <td>False</td>\n",
       "      <td>False</td>\n",
       "      <td>6</td>\n",
       "    </tr>\n",
       "    <tr>\n",
       "      <th>1</th>\n",
       "      <td>southern_us</td>\n",
       "      <td>25693</td>\n",
       "      <td>plain flour, ground pepper, salt, tomatoes, gr...</td>\n",
       "      <td>0</td>\n",
       "      <td>False</td>\n",
       "      <td>False</td>\n",
       "      <td>0</td>\n",
       "      <td>False</td>\n",
       "      <td>True</td>\n",
       "      <td>16</td>\n",
       "    </tr>\n",
       "    <tr>\n",
       "      <th>2</th>\n",
       "      <td>filipino</td>\n",
       "      <td>20130</td>\n",
       "      <td>eggs, pepper, salt, mayonaise, cooking oil, gr...</td>\n",
       "      <td>0</td>\n",
       "      <td>False</td>\n",
       "      <td>False</td>\n",
       "      <td>0</td>\n",
       "      <td>False</td>\n",
       "      <td>True</td>\n",
       "      <td>4</td>\n",
       "    </tr>\n",
       "  </tbody>\n",
       "</table>\n",
       "</div>"
      ],
      "text/plain": [
       "       cuisine     id                                    ingredient_list  \\\n",
       "0        greek  10259  romaine lettuce, black olives, grape tomatoes,...   \n",
       "1  southern_us  25693  plain flour, ground pepper, salt, tomatoes, gr...   \n",
       "2     filipino  20130  eggs, pepper, salt, mayonaise, cooking oil, gr...   \n",
       "\n",
       "   label has_spaghetti has_curry_powder  is_brazilian has_water has_salt  \\\n",
       "0      0         False            False             0     False    False   \n",
       "1      0         False            False             0     False     True   \n",
       "2      0         False            False             0     False     True   \n",
       "\n",
       "   cuisine_label  \n",
       "0              6  \n",
       "1             16  \n",
       "2              4  "
      ]
     },
     "execution_count": 97,
     "metadata": {},
     "output_type": "execute_result"
    }
   ],
   "source": [
    "df['cuisine_label'] = le.transform(df['cuisine'])\n",
    "df.head(3)"
   ]
  },
  {
   "cell_type": "markdown",
   "metadata": {},
   "source": [
    "## Let's train and test with our new labels"
   ]
  },
  {
   "cell_type": "code",
   "execution_count": null,
   "metadata": {
    "collapsed": true
   },
   "outputs": [],
   "source": []
  },
  {
   "cell_type": "code",
   "execution_count": 98,
   "metadata": {
    "collapsed": true
   },
   "outputs": [],
   "source": [
    "from sklearn.cross_validation import train_test_split\n",
    "\n",
    "X_train, X_test, y_train, y_test = train_test_split(\n",
    "    df[['has_water', 'has_salt']], # the first is our FEATURES\n",
    "    df['cuisine_label'], # the second parameter is the LABEL (0-16, southern us, brazilian, anything really)\n",
    "    test_size=0.2) # 80% training, 20% testing"
   ]
  },
  {
   "cell_type": "code",
   "execution_count": 102,
   "metadata": {
    "collapsed": false
   },
   "outputs": [
    {
     "data": {
      "text/plain": [
       "BernoulliNB(alpha=1.0, binarize=0.0, class_prior=None, fit_prior=True)"
      ]
     },
     "execution_count": 102,
     "metadata": {},
     "output_type": "execute_result"
    }
   ],
   "source": [
    "from sklearn import naive_bayes\n",
    "\n",
    "# Create a Bernoulli Naive Bayes classifier\n",
    "clf = naive_bayes.BernoulliNB()\n",
    "\n",
    "# Learn how related every cuisine is to water and salt\n",
    "clf.fit(X_train, y_train)"
   ]
  },
  {
   "cell_type": "code",
   "execution_count": 103,
   "metadata": {
    "collapsed": false
   },
   "outputs": [
    {
     "data": {
      "text/plain": [
       "0.1990948804173607"
      ]
     },
     "execution_count": 103,
     "metadata": {},
     "output_type": "execute_result"
    }
   ],
   "source": [
    "clf.score(X_train, y_train)"
   ]
  },
  {
   "cell_type": "code",
   "execution_count": 104,
   "metadata": {
    "collapsed": false
   },
   "outputs": [
    {
     "data": {
      "text/plain": [
       "0.19974858579509741"
      ]
     },
     "execution_count": 104,
     "metadata": {},
     "output_type": "execute_result"
    }
   ],
   "source": [
    "clf.score(X_test, y_test)"
   ]
  },
  {
   "cell_type": "markdown",
   "metadata": {},
   "source": [
    "# Let's add some more features to see if we can do a better job\n",
    "\n",
    "Right now I'm only looking at water and salt which doesn't tell you much, maybe you're looking at tortillas or cumin or soy sauce which tells you a little bit more."
   ]
  },
  {
   "cell_type": "code",
   "execution_count": 105,
   "metadata": {
    "collapsed": true
   },
   "outputs": [],
   "source": [
    "df['has_miso'] = df['ingredient_list'].str.contains(\"miso\")\n",
    "df['has_soy_sauce'] = df['ingredient_list'].str.contains(\"soy sauce\")\n",
    "df['has_cilantro'] = df['ingredient_list'].str.contains(\"cilantro\")\n",
    "df['has_black_olives'] = df['ingredient_list'].str.contains(\"black olives\")\n",
    "df['has_tortillas'] = df['ingredient_list'].str.contains(\"tortillas\")\n",
    "df['has_turmeric'] = df['ingredient_list'].str.contains(\"turmeric\")\n",
    "df['has_pistachios'] = df['ingredient_list'].str.contains(\"pistachios\")\n",
    "df['has_lemongrass'] = df['ingredient_list'].str.contains(\"lemongrass\")"
   ]
  },
  {
   "cell_type": "markdown",
   "metadata": {},
   "source": [
    "Our new feature set is!!! `df[['has_spaghetti', 'has_miso', 'has_soy_sauce', 'has_cilantro','has_black_olives','has_tortillas','has_turmeric', 'has_pistachios','has_lemongrass']]`"
   ]
  },
  {
   "cell_type": "code",
   "execution_count": 107,
   "metadata": {
    "collapsed": true
   },
   "outputs": [],
   "source": [
    "from sklearn.cross_validation import train_test_split\n",
    "\n",
    "X_train, X_test, y_train, y_test = train_test_split(\n",
    "    df[['has_spaghetti', 'has_miso', 'has_soy_sauce', 'has_cilantro','has_black_olives','has_tortillas','has_turmeric', 'has_pistachios','has_lemongrass']], # the first is our FEATURES\n",
    "    df['cuisine_label'], # the second parameter is the LABEL (0-16, southern us, brazilian, anything really)\n",
    "    test_size=0.2) # 80% training, 20% testing"
   ]
  },
  {
   "cell_type": "code",
   "execution_count": 108,
   "metadata": {
    "collapsed": false
   },
   "outputs": [
    {
     "data": {
      "text/plain": [
       "BernoulliNB(alpha=1.0, binarize=0.0, class_prior=None, fit_prior=True)"
      ]
     },
     "execution_count": 108,
     "metadata": {},
     "output_type": "execute_result"
    }
   ],
   "source": [
    "from sklearn import naive_bayes\n",
    "\n",
    "# Create a Bernoulli Naive Bayes classifier\n",
    "clf = naive_bayes.BernoulliNB()\n",
    "\n",
    "# Learn how related every cuisine is to water and salt\n",
    "clf.fit(X_train, y_train)"
   ]
  },
  {
   "cell_type": "code",
   "execution_count": 109,
   "metadata": {
    "collapsed": false
   },
   "outputs": [
    {
     "data": {
      "text/plain": [
       "0.37109902888211443"
      ]
     },
     "execution_count": 109,
     "metadata": {},
     "output_type": "execute_result"
    }
   ],
   "source": [
    "clf.score(X_train, y_train)"
   ]
  },
  {
   "cell_type": "code",
   "execution_count": 110,
   "metadata": {
    "collapsed": false
   },
   "outputs": [
    {
     "data": {
      "text/plain": [
       "0.36882463859208048"
      ]
     },
     "execution_count": 110,
     "metadata": {},
     "output_type": "execute_result"
    }
   ],
   "source": [
    "clf.score(X_test, y_test)"
   ]
  },
  {
   "cell_type": "markdown",
   "metadata": {},
   "source": [
    "# This is taking forever, please let there be an automatic way to pick out all of the words"
   ]
  },
  {
   "cell_type": "code",
   "execution_count": 147,
   "metadata": {
    "collapsed": false
   },
   "outputs": [],
   "source": [
    "from sklearn.feature_extraction.text import CountVectorizer\n",
    "\n",
    "# STEP ONE: .fit to learn all of the words\n",
    "# STEP TWO: .transform to turn a sentence into numbers\n",
    "\n",
    "#vectorizer = CountVectorizer()\n",
    "# So now 'olive' and 'oil' and 'olive oil' instead of just 'olive' and 'oil'\n",
    "# Only pick the top 3000 most frequent ngrams\n",
    "vectorizer = CountVectorizer(ngram_range=(1,2), max_features=3000)"
   ]
  },
  {
   "cell_type": "code",
   "execution_count": 120,
   "metadata": {
    "collapsed": false
   },
   "outputs": [
    {
     "data": {
      "text/plain": [
       "CountVectorizer(analyzer='word', binary=False, decode_error='strict',\n",
       "        dtype=<class 'numpy.int64'>, encoding='utf-8', input='content',\n",
       "        lowercase=True, max_df=1.0, max_features=None, min_df=1,\n",
       "        ngram_range=(1, 1), preprocessor=None, stop_words=None,\n",
       "        strip_accents=None, token_pattern='(?u)\\\\b\\\\w\\\\w+\\\\b',\n",
       "        tokenizer=None, vocabulary=None)"
      ]
     },
     "execution_count": 120,
     "metadata": {},
     "output_type": "execute_result"
    }
   ],
   "source": [
    "# We have some sentences\n",
    "# We're going to feed it to the vectorizer\n",
    "# and it's going to learn all of the words\n",
    "sentences = [\n",
    "    \"cats are cool\",\n",
    "    \"dogs are cool\"\n",
    "]\n",
    "vectorizer.fit(sentences)"
   ]
  },
  {
   "cell_type": "code",
   "execution_count": 121,
   "metadata": {
    "collapsed": false
   },
   "outputs": [
    {
     "data": {
      "text/plain": [
       "<2x4 sparse matrix of type '<class 'numpy.int64'>'\n",
       "\twith 6 stored elements in Compressed Sparse Row format>"
      ]
     },
     "execution_count": 121,
     "metadata": {},
     "output_type": "execute_result"
    }
   ],
   "source": [
    "# We're going to take some sentences and feed it to the vectorizer\n",
    "# and its' going to convert it into numbers\n",
    "vectorizer.transform(sentences)"
   ]
  },
  {
   "cell_type": "code",
   "execution_count": 122,
   "metadata": {
    "collapsed": false
   },
   "outputs": [
    {
     "data": {
      "text/plain": [
       "array([[1, 1, 1, 0],\n",
       "       [1, 0, 1, 1]])"
      ]
     },
     "execution_count": 122,
     "metadata": {},
     "output_type": "execute_result"
    }
   ],
   "source": [
    "# But it looks bad to look at so I'll use .toarray()\n",
    "vectorizer.transform(sentences).toarray()"
   ]
  },
  {
   "cell_type": "code",
   "execution_count": 123,
   "metadata": {
    "collapsed": false
   },
   "outputs": [
    {
     "data": {
      "text/plain": [
       "0    romaine lettuce, black olives, grape tomatoes,...\n",
       "1    plain flour, ground pepper, salt, tomatoes, gr...\n",
       "2    eggs, pepper, salt, mayonaise, cooking oil, gr...\n",
       "3                    water, vegetable oil, wheat, salt\n",
       "4    black pepper, shallots, cornflour, cayenne pep...\n",
       "Name: ingredient_list, dtype: object"
      ]
     },
     "execution_count": 123,
     "metadata": {},
     "output_type": "execute_result"
    }
   ],
   "source": [
    "# In our case, our text is the list of ingredients. We can get it through\n",
    "df['ingredient_list'].head()"
   ]
  },
  {
   "cell_type": "code",
   "execution_count": 148,
   "metadata": {
    "collapsed": false
   },
   "outputs": [
    {
     "data": {
      "text/plain": [
       "CountVectorizer(analyzer='word', binary=False, decode_error='strict',\n",
       "        dtype=<class 'numpy.int64'>, encoding='utf-8', input='content',\n",
       "        lowercase=True, max_df=1.0, max_features=3000, min_df=1,\n",
       "        ngram_range=(1, 2), preprocessor=None, stop_words=None,\n",
       "        strip_accents=None, token_pattern='(?u)\\\\b\\\\w\\\\w+\\\\b',\n",
       "        tokenizer=None, vocabulary=None)"
      ]
     },
     "execution_count": 148,
     "metadata": {},
     "output_type": "execute_result"
    }
   ],
   "source": [
    "# Dear vectorizer, please learn all of these words\n",
    "vectorizer.fit(df['ingredient_list'])"
   ]
  },
  {
   "cell_type": "code",
   "execution_count": 149,
   "metadata": {
    "collapsed": false
   },
   "outputs": [
    {
     "data": {
      "text/plain": [
       "<39774x3000 sparse matrix of type '<class 'numpy.int64'>'\n",
       "\twith 1243216 stored elements in Compressed Sparse Row format>"
      ]
     },
     "execution_count": 149,
     "metadata": {},
     "output_type": "execute_result"
    }
   ],
   "source": [
    "# Dear vectorizer, please convert ingredient_list into features\n",
    "# That we can do machine learning on\n",
    "\n",
    "every_single_word_features = vectorizer.transform(df['ingredient_list'])\n",
    "every_single_word_features"
   ]
  },
  {
   "cell_type": "markdown",
   "metadata": {},
   "source": [
    "# Now let's try with our new complete labels and our new complete features that includes every single word"
   ]
  },
  {
   "cell_type": "code",
   "execution_count": 150,
   "metadata": {
    "collapsed": true
   },
   "outputs": [],
   "source": [
    "from sklearn.cross_validation import train_test_split\n",
    "\n",
    "X_train, X_test, y_train, y_test = train_test_split(\n",
    "    every_single_word_features,\n",
    "    df['cuisine_label'], # the second parameter is the LABEL (0-16, southern us, brazilian, anything really)\n",
    "    test_size=0.2) # 80% training, 20% testing"
   ]
  },
  {
   "cell_type": "code",
   "execution_count": 151,
   "metadata": {
    "collapsed": false
   },
   "outputs": [
    {
     "name": "stdout",
     "output_type": "stream",
     "text": [
      "This is Naive Bayes\n",
      "CPU times: user 51.4 ms, sys: 15.1 ms, total: 66.5 ms\n",
      "Wall time: 67.7 ms\n",
      "Training score: (stuff it already knows) 0.714730192652\n",
      "Testing score: (stuff it hasn't seen before): 0.681458202388\n"
     ]
    }
   ],
   "source": [
    "print(\"This is Naive Bayes\")\n",
    "\n",
    "from sklearn import naive_bayes\n",
    "clf = naive_bayes.BernoulliNB()\n",
    "%time clf.fit(X_train, y_train)\n",
    "\n",
    "# How does it do on the training data?\n",
    "print(\"Training score: (stuff it already knows)\", clf.score(X_train, y_train))\n",
    "\n",
    "# How does it do on the testing data?\n",
    "print(\"Testing score: (stuff it hasn't seen before):\", clf.score(X_test, y_test))"
   ]
  },
  {
   "cell_type": "code",
   "execution_count": 152,
   "metadata": {
    "collapsed": false
   },
   "outputs": [
    {
     "name": "stdout",
     "output_type": "stream",
     "text": [
      "This is a Decision Tree\n",
      "CPU times: user 15.2 s, sys: 124 ms, total: 15.4 s\n",
      "Wall time: 15.9 s\n",
      "Training score: (stuff it already knows) 0.999748577894\n",
      "Testing score: (stuff it hasn't seen before): 0.634946574481\n"
     ]
    }
   ],
   "source": [
    "print(\"This is a Decision Tree\")\n",
    "\n",
    "from sklearn import tree\n",
    "tree_clf = tree.DecisionTreeClassifier()\n",
    "\n",
    "%time tree_clf.fit(X_train, y_train)\n",
    "\n",
    "# How does it do on the training data?\n",
    "print(\"Training score: (stuff it already knows)\", tree_clf.score(X_train, y_train))\n",
    "\n",
    "# How does it do on the testing data?\n",
    "print(\"Testing score: (stuff it hasn't seen before):\", tree_clf.score(X_test, y_test))"
   ]
  },
  {
   "cell_type": "code",
   "execution_count": 153,
   "metadata": {
    "collapsed": false
   },
   "outputs": [
    {
     "name": "stdout",
     "output_type": "stream",
     "text": [
      "This is a Random Forest\n",
      "CPU times: user 9.42 s, sys: 143 ms, total: 9.56 s\n",
      "Wall time: 10 s\n",
      "Training score: (stuff it already knows) 0.992331625758\n",
      "Testing score: (stuff it hasn't seen before): 0.708862350723\n"
     ]
    }
   ],
   "source": [
    "from sklearn.ensemble import RandomForestClassifier\n",
    "\n",
    "print(\"This is a Random Forest\")\n",
    "\n",
    "tree_clf = RandomForestClassifier()\n",
    "\n",
    "%time tree_clf.fit(X_train, y_train)\n",
    "\n",
    "# How does it do on the training data?\n",
    "print(\"Training score: (stuff it already knows)\", tree_clf.score(X_train, y_train))\n",
    "\n",
    "# How does it do on the testing data?\n",
    "print(\"Testing score: (stuff it hasn't seen before):\", tree_clf.score(X_test, y_test))"
   ]
  },
  {
   "cell_type": "markdown",
   "metadata": {},
   "source": [
    "# How do you do this in the real world with new data?"
   ]
  },
  {
   "cell_type": "code",
   "execution_count": 157,
   "metadata": {
    "collapsed": true
   },
   "outputs": [],
   "source": [
    "every_single_word_features = vectorizer.transform(df['ingredient_list'])\n"
   ]
  },
  {
   "cell_type": "code",
   "execution_count": 169,
   "metadata": {
    "collapsed": false
   },
   "outputs": [
    {
     "data": {
      "text/plain": [
       "<4x3000 sparse matrix of type '<class 'numpy.int64'>'\n",
       "\twith 35 stored elements in Compressed Sparse Row format>"
      ]
     },
     "execution_count": 169,
     "metadata": {},
     "output_type": "execute_result"
    }
   ],
   "source": [
    "# Import the Naive bayes thing\n",
    "from sklearn import naive_bayes\n",
    "clf = naive_bayes.BernoulliNB()\n",
    "\n",
    "# Give the classifier EVERYTHING we know, not holding back anything\n",
    "clf.fit(every_single_word_features, df['cuisine_label'])\n",
    "\n",
    "# We have some new stuff we have not categorized\n",
    "incoming_recipes = [\n",
    "    \"spaghetti tomato sauce garlic onion water\",\n",
    "    \"soy sauce ginger sugar butter\",\n",
    "    \"green papaya thai chilies palm sugar\",\n",
    "    \"butter oil salt black pepper water milk bubblegumpie\"\n",
    "]\n",
    "\n",
    "features_for_new_recipes = vectorizer.transform(incoming_recipes)\n",
    "features_for_new_recipes"
   ]
  },
  {
   "cell_type": "code",
   "execution_count": 170,
   "metadata": {
    "collapsed": false
   },
   "outputs": [
    {
     "data": {
      "text/plain": [
       "array([ 4, 11,  4, 16])"
      ]
     },
     "execution_count": 170,
     "metadata": {},
     "output_type": "execute_result"
    }
   ],
   "source": [
    "predictions = clf.predict(features_for_new_recipes)\n",
    "predictions"
   ]
  },
  {
   "cell_type": "code",
   "execution_count": 171,
   "metadata": {
    "collapsed": false
   },
   "outputs": [
    {
     "data": {
      "text/plain": [
       "array(['filipino', 'japanese', 'filipino', 'southern_us'], dtype=object)"
      ]
     },
     "execution_count": 171,
     "metadata": {},
     "output_type": "execute_result"
    }
   ],
   "source": [
    "# The predictions are all categories that the labelencoder decided on\n",
    "# Let's convert those numeric ones back into real fun cuisine words\n",
    "le.inverse_transform(predictions)"
   ]
  },
  {
   "cell_type": "code",
   "execution_count": null,
   "metadata": {
    "collapsed": true
   },
   "outputs": [],
   "source": []
  }
 ],
 "metadata": {
  "kernelspec": {
   "display_name": "Python 3",
   "language": "python",
   "name": "python3"
  },
  "language_info": {
   "codemirror_mode": {
    "name": "ipython",
    "version": 3
   },
   "file_extension": ".py",
   "mimetype": "text/x-python",
   "name": "python",
   "nbconvert_exporter": "python",
   "pygments_lexer": "ipython3",
   "version": "3.5.1"
  }
 },
 "nbformat": 4,
 "nbformat_minor": 1
}
