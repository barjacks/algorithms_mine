{
 "cells": [
  {
   "cell_type": "code",
   "execution_count": 18,
   "metadata": {
    "collapsed": true
   },
   "outputs": [],
   "source": [
    "import pandas as pd                   \n",
    "import matplotlib.pyplot as plt       \n",
    "import matplotlib as mpl              \n",
    "import numpy as np                  \n",
    "%matplotlib inline\n",
    "from numpy._distributor_init import NUMPY_MKL\n",
    "import scipy as sp \n",
    "from scipy import stats\n",
    "import statsmodels.formula.api as smf # package we'll be using for linear regression\n",
    "plt.style.use(\"fivethirtyeight\")"
   ]
  },
  {
   "cell_type": "markdown",
   "metadata": {},
   "source": [
    "## Regression and  R Explains the following.\n",
    "\n",
    "Questions.\n",
    "1. is there a linear relationship between the two variables? **Simple Regression/OLS**\n",
    "2. Do they have a strong relationship? ** R value **\n",
    "3. Can we predict based on the dataset? **Regression line/Trendline** \n",
    "4. Is our model reliable? **R-square** \n",
    "\n",
    "** Relation between 'height' & 'approaval ratings of US presidents' **\n",
    "\n",
    "Condition  \n",
    "    * Variable A : 'height'   ................................**INPUT**\n",
    "    * Variable B : 'approaval ratings of US presidents'  .....**OUTPUT**\n",
    "    * Variable C : 'US presidents'............................Instances\n"
   ]
  },
  {
   "cell_type": "code",
   "execution_count": 51,
   "metadata": {
    "collapsed": true
   },
   "outputs": [],
   "source": [
    "# Example  Data Table\n",
    "sample_list = [185,47,182,49.9,188,55.1,188,60.9]\n",
    "ex02 = pd.DataFrame(np.asarray(sample_list).reshape(4,2),\n",
    "                    index=['Obama','Bush_2','Clinton','Bush_1'],columns = ['height','approval_rating'])"
   ]
  },
  {
   "cell_type": "code",
   "execution_count": 20,
   "metadata": {
    "collapsed": false
   },
   "outputs": [
    {
     "data": {
      "text/html": [
       "<div>\n",
       "<table border=\"1\" class=\"dataframe\">\n",
       "  <thead>\n",
       "    <tr style=\"text-align: right;\">\n",
       "      <th></th>\n",
       "      <th>height</th>\n",
       "      <th>approval_rating</th>\n",
       "    </tr>\n",
       "  </thead>\n",
       "  <tbody>\n",
       "    <tr>\n",
       "      <th>Obama</th>\n",
       "      <td>185.0</td>\n",
       "      <td>47.0</td>\n",
       "    </tr>\n",
       "    <tr>\n",
       "      <th>Bush_jr</th>\n",
       "      <td>182.0</td>\n",
       "      <td>49.9</td>\n",
       "    </tr>\n",
       "    <tr>\n",
       "      <th>Clinton</th>\n",
       "      <td>188.0</td>\n",
       "      <td>55.1</td>\n",
       "    </tr>\n",
       "    <tr>\n",
       "      <th>Bush_sr</th>\n",
       "      <td>188.0</td>\n",
       "      <td>60.9</td>\n",
       "    </tr>\n",
       "  </tbody>\n",
       "</table>\n",
       "</div>"
      ],
      "text/plain": [
       "         height  approval_rating\n",
       "Obama     185.0             47.0\n",
       "Bush_jr   182.0             49.9\n",
       "Clinton   188.0             55.1\n",
       "Bush_sr   188.0             60.9"
      ]
     },
     "execution_count": 20,
     "metadata": {},
     "output_type": "execute_result"
    }
   ],
   "source": [
    "ex02"
   ]
  },
  {
   "cell_type": "code",
   "execution_count": 21,
   "metadata": {
    "collapsed": true
   },
   "outputs": [],
   "source": [
    "# 1. Linerar relationship?\n",
    "# Scatter plot\n",
    "# height           >> Independent variable 'x'\n",
    "# approval rating  >> dependent variable 'y'\n",
    "\n",
    "x = 'height'\n",
    "y = 'approval_rating'"
   ]
  },
  {
   "cell_type": "code",
   "execution_count": 22,
   "metadata": {
    "collapsed": false
   },
   "outputs": [
    {
     "name": "stdout",
     "output_type": "stream",
     "text": [
      " \n",
      "1.561 x - 236.7\n"
     ]
    }
   ],
   "source": []
  },
  {
   "cell_type": "code",
   "execution_count": 38,
   "metadata": {
    "collapsed": false
   },
   "outputs": [
    {
     "data": {
      "text/plain": [
       "<matplotlib.axes._subplots.AxesSubplot at 0x1ac1128>"
      ]
     },
     "execution_count": 38,
     "metadata": {},
     "output_type": "execute_result"
    },
    {
     "data": {
      "image/png": "[encoded data removed]",
      "text/plain": [
       "<matplotlib.figure.Figure at 0x1b05518>"
      ]
     },
     "metadata": {},
     "output_type": "display_data"
    }
   ],
   "source": [
    "ex02.plot(kind=\"scatter\",x=\"height\",y=\"approval_rating\",s=100, c='g')"
   ]
  },
  {
   "cell_type": "code",
   "execution_count": 60,
   "metadata": {
    "collapsed": true
   },
   "outputs": [],
   "source": [
    "lm = smf.ols(formula=\"approval_rating~height\",data=ex02).fit()"
   ]
  },
  {
   "cell_type": "code",
   "execution_count": 61,
   "metadata": {
    "collapsed": false
   },
   "outputs": [
    {
     "data": {
      "text/plain": [
       "pandas.core.series.Series"
      ]
     },
     "execution_count": 61,
     "metadata": {},
     "output_type": "execute_result"
    }
   ],
   "source": [
    "type(lm.params)"
   ]
  },
  {
   "cell_type": "code",
   "execution_count": 27,
   "metadata": {
    "collapsed": false
   },
   "outputs": [
    {
     "data": {
      "text/plain": [
       "Intercept   -236.657576\n",
       "height         1.560606\n",
       "dtype: float64"
      ]
     },
     "execution_count": 27,
     "metadata": {},
     "output_type": "execute_result"
    }
   ],
   "source": [
    "lm.params "
   ]
  },
  {
   "cell_type": "code",
   "execution_count": 28,
   "metadata": {
    "collapsed": true
   },
   "outputs": [],
   "source": [
    "intercept, slope = lm.params "
   ]
  },
  {
   "cell_type": "code",
   "execution_count": 52,
   "metadata": {
    "collapsed": false
   },
   "outputs": [
    {
     "name": "stdout",
     "output_type": "stream",
     "text": [
      " \n",
      "1.561 x - 236.7\n"
     ]
    }
   ],
   "source": [
    "coefficients = np.polyfit(ex02[x], ex02[y], 1)\n",
    "polynomial = np.poly1d(coefficients) # regression \n",
    "print (polynomial)"
   ]
  },
  {
   "cell_type": "code",
   "execution_count": 36,
   "metadata": {
    "collapsed": false
   },
   "outputs": [
    {
     "data": {
      "text/plain": [
       "[<matplotlib.lines.Line2D at 0x1a26fd0>]"
      ]
     },
     "execution_count": 36,
     "metadata": {},
     "output_type": "execute_result"
    },
    {
     "data": {
      "image/png": "[encoded data removed]",
      "text/plain": [
       "<matplotlib.figure.Figure at 0x1a7e400>"
      ]
     },
     "metadata": {},
     "output_type": "display_data"
    }
   ],
   "source": [
    "ex02.plot(kind=\"scatter\",x=\"height\",y=\"approval_rating\",s=100, c='g')\n",
    "plt.plot(ex02[\"height\"],slope*ex02[\"height\"]+intercept,\"-\",color=\"red\")"
   ]
  },
  {
   "cell_type": "code",
   "execution_count": 35,
   "metadata": {
    "collapsed": false
   },
   "outputs": [
    {
     "name": "stderr",
     "output_type": "stream",
     "text": [
      "c:\\users\\dongjin\\envs\\03stat\\lib\\site-packages\\statsmodels\\stats\\stattools.py:72: ValueWarning: omni_normtest is not valid with less than 8 observations; 4 samples were given.\n",
      "  \"samples were given.\" % int(n), ValueWarning)\n"
     ]
    },
    {
     "data": {
      "text/html": [
       "<table class=\"simpletable\">\n",
       "<caption>OLS Regression Results</caption>\n",
       "<tr>\n",
       "  <th>Dep. Variable:</th>     <td>approval_rating</td> <th>  R-squared:         </th> <td>   0.537</td>\n",
       "</tr>\n",
       "<tr>\n",
       "  <th>Model:</th>                   <td>OLS</td>       <th>  Adj. R-squared:    </th> <td>   0.306</td>\n",
       "</tr>\n",
       "<tr>\n",
       "  <th>Method:</th>             <td>Least Squares</td>  <th>  F-statistic:       </th> <td>   2.321</td>\n",
       "</tr>\n",
       "<tr>\n",
       "  <th>Date:</th>             <td>Thu, 04 Aug 2016</td> <th>  Prob (F-statistic):</th>  <td> 0.267</td> \n",
       "</tr>\n",
       "<tr>\n",
       "  <th>Time:</th>                 <td>11:49:05</td>     <th>  Log-Likelihood:    </th> <td> -10.804</td>\n",
       "</tr>\n",
       "<tr>\n",
       "  <th>No. Observations:</th>      <td>     4</td>      <th>  AIC:               </th> <td>   25.61</td>\n",
       "</tr>\n",
       "<tr>\n",
       "  <th>Df Residuals:</th>          <td>     2</td>      <th>  BIC:               </th> <td>   24.38</td>\n",
       "</tr>\n",
       "<tr>\n",
       "  <th>Df Model:</th>              <td>     1</td>      <th>                     </th>     <td> </td>   \n",
       "</tr>\n",
       "<tr>\n",
       "  <th>Covariance Type:</th>      <td>nonrobust</td>    <th>                     </th>     <td> </td>   \n",
       "</tr>\n",
       "</table>\n",
       "<table class=\"simpletable\">\n",
       "<tr>\n",
       "      <td></td>         <th>coef</th>     <th>std err</th>      <th>t</th>      <th>P>|t|</th>  <th>[0.025</th>    <th>0.975]</th>  \n",
       "</tr>\n",
       "<tr>\n",
       "  <th>Intercept</th> <td> -236.6576</td> <td>  190.307</td> <td>   -1.244</td> <td> 0.340</td> <td>-1055.481</td> <td>  582.166</td>\n",
       "</tr>\n",
       "<tr>\n",
       "  <th>height</th>    <td>    1.5606</td> <td>    1.024</td> <td>    1.523</td> <td> 0.267</td> <td>   -2.847</td> <td>    5.968</td>\n",
       "</tr>\n",
       "</table>\n",
       "<table class=\"simpletable\">\n",
       "<tr>\n",
       "  <th>Omnibus:</th>       <td>   nan</td> <th>  Durbin-Watson:     </th> <td>   2.088</td>\n",
       "</tr>\n",
       "<tr>\n",
       "  <th>Prob(Omnibus):</th> <td>   nan</td> <th>  Jarque-Bera (JB):  </th> <td>   0.422</td>\n",
       "</tr>\n",
       "<tr>\n",
       "  <th>Skew:</th>          <td>-0.241</td> <th>  Prob(JB):          </th> <td>   0.810</td>\n",
       "</tr>\n",
       "<tr>\n",
       "  <th>Kurtosis:</th>      <td> 1.484</td> <th>  Cond. No.          </th> <td>1.39e+04</td>\n",
       "</tr>\n",
       "</table>"
      ],
      "text/plain": [
       "<class 'statsmodels.iolib.summary.Summary'>\n",
       "\"\"\"\n",
       "                            OLS Regression Results                            \n",
       "==============================================================================\n",
       "Dep. Variable:        approval_rating   R-squared:                       0.537\n",
       "Model:                            OLS   Adj. R-squared:                  0.306\n",
       "Method:                 Least Squares   F-statistic:                     2.321\n",
       "Date:                Thu, 04 Aug 2016   Prob (F-statistic):              0.267\n",
       "Time:                        11:49:05   Log-Likelihood:                -10.804\n",
       "No. Observations:                   4   AIC:                             25.61\n",
       "Df Residuals:                       2   BIC:                             24.38\n",
       "Df Model:                           1                                         \n",
       "Covariance Type:            nonrobust                                         \n",
       "==============================================================================\n",
       "                 coef    std err          t      P>|t|      [0.025      0.975]\n",
       "------------------------------------------------------------------------------\n",
       "Intercept   -236.6576    190.307     -1.244      0.340   -1055.481     582.166\n",
       "height         1.5606      1.024      1.523      0.267      -2.847       5.968\n",
       "==============================================================================\n",
       "Omnibus:                          nan   Durbin-Watson:                   2.088\n",
       "Prob(Omnibus):                    nan   Jarque-Bera (JB):                0.422\n",
       "Skew:                          -0.241   Prob(JB):                        0.810\n",
       "Kurtosis:                       1.484   Cond. No.                     1.39e+04\n",
       "==============================================================================\n",
       "\n",
       "Warnings:\n",
       "[1] Standard Errors assume that the covariance matrix of the errors is correctly specified.\n",
       "[2] The condition number is large, 1.39e+04. This might indicate that there are\n",
       "strong multicollinearity or other numerical problems.\n",
       "\"\"\""
      ]
     },
     "execution_count": 35,
     "metadata": {},
     "output_type": "execute_result"
    }
   ],
   "source": [
    "lm.summary()"
   ]
  },
  {
   "cell_type": "code",
   "execution_count": 50,
   "metadata": {
    "collapsed": false
   },
   "outputs": [
    {
     "data": {
      "text/html": [
       "<div>\n",
       "<table border=\"1\" class=\"dataframe\">\n",
       "  <thead>\n",
       "    <tr style=\"text-align: right;\">\n",
       "      <th></th>\n",
       "      <th>height</th>\n",
       "      <th>approval_rating</th>\n",
       "      <th>height_zscore</th>\n",
       "      <th>approval_rating_zscore</th>\n",
       "      <th>ZxZy</th>\n",
       "    </tr>\n",
       "  </thead>\n",
       "  <tbody>\n",
       "    <tr>\n",
       "      <th>height</th>\n",
       "      <td>1.000000</td>\n",
       "      <td>0.732877</td>\n",
       "      <td>1.000000</td>\n",
       "      <td>0.732877</td>\n",
       "      <td>-0.035049</td>\n",
       "    </tr>\n",
       "    <tr>\n",
       "      <th>approval_rating</th>\n",
       "      <td>0.732877</td>\n",
       "      <td>1.000000</td>\n",
       "      <td>0.732877</td>\n",
       "      <td>1.000000</td>\n",
       "      <td>0.601803</td>\n",
       "    </tr>\n",
       "    <tr>\n",
       "      <th>height_zscore</th>\n",
       "      <td>1.000000</td>\n",
       "      <td>0.732877</td>\n",
       "      <td>1.000000</td>\n",
       "      <td>0.732877</td>\n",
       "      <td>-0.035049</td>\n",
       "    </tr>\n",
       "    <tr>\n",
       "      <th>approval_rating_zscore</th>\n",
       "      <td>0.732877</td>\n",
       "      <td>1.000000</td>\n",
       "      <td>0.732877</td>\n",
       "      <td>1.000000</td>\n",
       "      <td>0.601803</td>\n",
       "    </tr>\n",
       "    <tr>\n",
       "      <th>ZxZy</th>\n",
       "      <td>-0.035049</td>\n",
       "      <td>0.601803</td>\n",
       "      <td>-0.035049</td>\n",
       "      <td>0.601803</td>\n",
       "      <td>1.000000</td>\n",
       "    </tr>\n",
       "  </tbody>\n",
       "</table>\n",
       "</div>"
      ],
      "text/plain": [
       "                          height  approval_rating  height_zscore  \\\n",
       "height                  1.000000         0.732877       1.000000   \n",
       "approval_rating         0.732877         1.000000       0.732877   \n",
       "height_zscore           1.000000         0.732877       1.000000   \n",
       "approval_rating_zscore  0.732877         1.000000       0.732877   \n",
       "ZxZy                   -0.035049         0.601803      -0.035049   \n",
       "\n",
       "                        approval_rating_zscore      ZxZy  \n",
       "height                                0.732877 -0.035049  \n",
       "approval_rating                       1.000000  0.601803  \n",
       "height_zscore                         0.732877 -0.035049  \n",
       "approval_rating_zscore                1.000000  0.601803  \n",
       "ZxZy                                  0.601803  1.000000  "
      ]
     },
     "execution_count": 50,
     "metadata": {},
     "output_type": "execute_result"
    }
   ],
   "source": [
    "ex02.corr()"
   ]
  },
  {
   "cell_type": "markdown",
   "metadata": {},
   "source": [
    "**Pearson's r ?**\n",
    "r = sum(ZxZy)/(n-1)\n",
    "\n",
    "* To compute Pearson's r, we need this formula.  \n",
    "* To start with, we need to compute all the z-scores of both our x and y.    \n",
    "* we need the means and standard deviations of these variables.  \n"
   ]
  },
  {
   "cell_type": "code",
   "execution_count": 40,
   "metadata": {
    "collapsed": false
   },
   "outputs": [
    {
     "name": "stdout",
     "output_type": "stream",
     "text": [
      "185.75 53.225 2.87228132327 6.11630334979\n"
     ]
    }
   ],
   "source": [
    "# step 01. mean and std\n",
    "\n",
    "Sx = ex02['height'].std()\n",
    "Sy = ex02['approval_rating'].std()\n",
    "Mx = ex02['height'].mean()\n",
    "My = ex02['approval_rating'].mean()\n",
    "\n",
    "print(Mx,My,Sx,Sy,)"
   ]
  },
  {
   "cell_type": "code",
   "execution_count": 44,
   "metadata": {
    "collapsed": false
   },
   "outputs": [],
   "source": [
    "# step 02. calculate z score\n",
    "# example) Obama_height_zscore = ( 180 - 185 )/ 185.75 = -0.261\n",
    "cols = list(ex02.columns)\n",
    "for col in cols:\n",
    "    col_zscore = col + '_zscore'\n",
    "    ex02[col_zscore] = (ex02[col] - ex02[col].mean())/ex02[col].std() "
   ]
  },
  {
   "cell_type": "code",
   "execution_count": 45,
   "metadata": {
    "collapsed": false
   },
   "outputs": [],
   "source": [
    "ex02['ZxZy'] = ex02['approval_rating_zscore']*ex02['height_zscore']"
   ]
  },
  {
   "cell_type": "code",
   "execution_count": 47,
   "metadata": {
    "collapsed": false
   },
   "outputs": [
    {
     "data": {
      "text/plain": [
       "0.73287726008754428"
      ]
     },
     "execution_count": 47,
     "metadata": {},
     "output_type": "execute_result"
    }
   ],
   "source": [
    "pearson_r = ex02['ZxZy'].sum()/(len(ex02['ZxZy'])-1)\n",
    "pearson_r"
   ]
  },
  {
   "cell_type": "code",
   "execution_count": 49,
   "metadata": {
    "collapsed": false
   },
   "outputs": [
    {
     "data": {
      "text/plain": [
       "0.73287726008754417"
      ]
     },
     "execution_count": 49,
     "metadata": {},
     "output_type": "execute_result"
    }
   ],
   "source": [
    "ex02.corr()['approval_rating']['height']"
   ]
  },
  {
   "cell_type": "code",
   "execution_count": 54,
   "metadata": {
    "collapsed": false
   },
   "outputs": [
    {
     "name": "stdout",
     "output_type": "stream",
     "text": [
      "-236.657575758 1.56060606061\n"
     ]
    }
   ],
   "source": [
    "# step 03. regression equation and regression line\n",
    "# regression slope b = r(Sy/Sx)\n",
    "# intercept a = My - b(Mx)\n",
    "# regression line ^y(y_hat) = a + bx\n",
    "\n",
    "b = pearson_r * (Sy/Sx)\n",
    "a = My - b*Mx\n",
    "\n",
    "print(a,b)"
   ]
  },
  {
   "cell_type": "code",
   "execution_count": 55,
   "metadata": {
    "collapsed": false
   },
   "outputs": [
    {
     "data": {
      "text/plain": [
       "0.53710907835342603"
      ]
     },
     "execution_count": 55,
     "metadata": {},
     "output_type": "execute_result"
    }
   ],
   "source": [
    "# step 04. r_square\n",
    "r_square = (pearson_r)**2\n",
    "r_square\n",
    "\n",
    "# interpretation\n",
    "#  01. the prediction error is 53% smaller when the regression line is used than employ the mean of the dv. \n",
    "#  02. 53% of the variation, or the variance in the dv, is explained by our independent variable. "
   ]
  },
  {
   "cell_type": "code",
   "execution_count": null,
   "metadata": {
    "collapsed": true
   },
   "outputs": [],
   "source": []
  }
 ],
 "metadata": {
  "kernelspec": {
   "display_name": "Python 3",
   "language": "python",
   "name": "python3"
  },
  "language_info": {
   "codemirror_mode": {
    "name": "ipython",
    "version": 3
   },
   "file_extension": ".py",
   "mimetype": "text/x-python",
   "name": "python",
   "nbconvert_exporter": "python",
   "pygments_lexer": "ipython3",
   "version": "3.5.1"
  }
 },
 "nbformat": 4,
 "nbformat_minor": 0
}
